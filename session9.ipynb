{
  "nbformat": 4,
  "nbformat_minor": 0,
  "metadata": {
    "colab": {
      "name": "Untitled76.ipynb",
      "provenance": [],
      "collapsed_sections": [],
      "authorship_tag": "ABX9TyPkNDQy9vYecoRhWxREpszp",
      "include_colab_link": true
    },
    "kernelspec": {
      "name": "python3",
      "display_name": "Python 3"
    },
    "language_info": {
      "name": "python"
    }
  },
  "cells": [
    {
      "cell_type": "markdown",
      "metadata": {
        "id": "view-in-github",
        "colab_type": "text"
      },
      "source": [
        "<a href=\"https://colab.research.google.com/github/gopal2812/EPAIAssignment9/blob/main/session9.ipynb\" target=\"_parent\"><img src=\"https://colab.research.google.com/assets/colab-badge.svg\" alt=\"Open In Colab\"/></a>"
      ]
    },
    {
      "cell_type": "code",
      "metadata": {
        "colab": {
          "base_uri": "https://localhost:8080/"
        },
        "id": "1kAraNAdFiUz",
        "outputId": "ec48b3d8-01e2-41b2-abaa-eb924d23a10f"
      },
      "source": [
        "#install faker and import the faker library\n",
        "!pip install faker\n",
        "from faker import Faker\n"
      ],
      "execution_count": 3,
      "outputs": [
        {
          "output_type": "stream",
          "text": [
            "Collecting faker\n",
            "\u001b[?25l  Downloading https://files.pythonhosted.org/packages/e4/be/d03e305f1d879f541c23d586023ec11b124d6cc3d75a95159470754134d9/Faker-8.10.0-py3-none-any.whl (1.2MB)\n",
            "\r\u001b[K     |▎                               | 10kB 12.5MB/s eta 0:00:01\r\u001b[K     |▋                               | 20kB 14.7MB/s eta 0:00:01\r\u001b[K     |▉                               | 30kB 17.5MB/s eta 0:00:01\r\u001b[K     |█▏                              | 40kB 19.5MB/s eta 0:00:01\r\u001b[K     |█▍                              | 51kB 21.5MB/s eta 0:00:01\r\u001b[K     |█▊                              | 61kB 23.6MB/s eta 0:00:01\r\u001b[K     |██                              | 71kB 21.2MB/s eta 0:00:01\r\u001b[K     |██▎                             | 81kB 19.2MB/s eta 0:00:01\r\u001b[K     |██▌                             | 92kB 18.4MB/s eta 0:00:01\r\u001b[K     |██▉                             | 102kB 18.8MB/s eta 0:00:01\r\u001b[K     |███                             | 112kB 18.8MB/s eta 0:00:01\r\u001b[K     |███▍                            | 122kB 18.8MB/s eta 0:00:01\r\u001b[K     |███▋                            | 133kB 18.8MB/s eta 0:00:01\r\u001b[K     |████                            | 143kB 18.8MB/s eta 0:00:01\r\u001b[K     |████▏                           | 153kB 18.8MB/s eta 0:00:01\r\u001b[K     |████▌                           | 163kB 18.8MB/s eta 0:00:01\r\u001b[K     |████▊                           | 174kB 18.8MB/s eta 0:00:01\r\u001b[K     |█████                           | 184kB 18.8MB/s eta 0:00:01\r\u001b[K     |█████▎                          | 194kB 18.8MB/s eta 0:00:01\r\u001b[K     |█████▋                          | 204kB 18.8MB/s eta 0:00:01\r\u001b[K     |█████▉                          | 215kB 18.8MB/s eta 0:00:01\r\u001b[K     |██████▏                         | 225kB 18.8MB/s eta 0:00:01\r\u001b[K     |██████▍                         | 235kB 18.8MB/s eta 0:00:01\r\u001b[K     |██████▊                         | 245kB 18.8MB/s eta 0:00:01\r\u001b[K     |███████                         | 256kB 18.8MB/s eta 0:00:01\r\u001b[K     |███████▎                        | 266kB 18.8MB/s eta 0:00:01\r\u001b[K     |███████▌                        | 276kB 18.8MB/s eta 0:00:01\r\u001b[K     |███████▉                        | 286kB 18.8MB/s eta 0:00:01\r\u001b[K     |████████                        | 296kB 18.8MB/s eta 0:00:01\r\u001b[K     |████████▍                       | 307kB 18.8MB/s eta 0:00:01\r\u001b[K     |████████▊                       | 317kB 18.8MB/s eta 0:00:01\r\u001b[K     |█████████                       | 327kB 18.8MB/s eta 0:00:01\r\u001b[K     |█████████▎                      | 337kB 18.8MB/s eta 0:00:01\r\u001b[K     |█████████▌                      | 348kB 18.8MB/s eta 0:00:01\r\u001b[K     |█████████▉                      | 358kB 18.8MB/s eta 0:00:01\r\u001b[K     |██████████                      | 368kB 18.8MB/s eta 0:00:01\r\u001b[K     |██████████▍                     | 378kB 18.8MB/s eta 0:00:01\r\u001b[K     |██████████▋                     | 389kB 18.8MB/s eta 0:00:01\r\u001b[K     |███████████                     | 399kB 18.8MB/s eta 0:00:01\r\u001b[K     |███████████▏                    | 409kB 18.8MB/s eta 0:00:01\r\u001b[K     |███████████▌                    | 419kB 18.8MB/s eta 0:00:01\r\u001b[K     |███████████▊                    | 430kB 18.8MB/s eta 0:00:01\r\u001b[K     |████████████                    | 440kB 18.8MB/s eta 0:00:01\r\u001b[K     |████████████▎                   | 450kB 18.8MB/s eta 0:00:01\r\u001b[K     |████████████▋                   | 460kB 18.8MB/s eta 0:00:01\r\u001b[K     |████████████▉                   | 471kB 18.8MB/s eta 0:00:01\r\u001b[K     |█████████████▏                  | 481kB 18.8MB/s eta 0:00:01\r\u001b[K     |█████████████▍                  | 491kB 18.8MB/s eta 0:00:01\r\u001b[K     |█████████████▊                  | 501kB 18.8MB/s eta 0:00:01\r\u001b[K     |██████████████                  | 512kB 18.8MB/s eta 0:00:01\r\u001b[K     |██████████████▎                 | 522kB 18.8MB/s eta 0:00:01\r\u001b[K     |██████████████▌                 | 532kB 18.8MB/s eta 0:00:01\r\u001b[K     |██████████████▉                 | 542kB 18.8MB/s eta 0:00:01\r\u001b[K     |███████████████                 | 552kB 18.8MB/s eta 0:00:01\r\u001b[K     |███████████████▍                | 563kB 18.8MB/s eta 0:00:01\r\u001b[K     |███████████████▋                | 573kB 18.8MB/s eta 0:00:01\r\u001b[K     |████████████████                | 583kB 18.8MB/s eta 0:00:01\r\u001b[K     |████████████████▏               | 593kB 18.8MB/s eta 0:00:01\r\u001b[K     |████████████████▌               | 604kB 18.8MB/s eta 0:00:01\r\u001b[K     |████████████████▉               | 614kB 18.8MB/s eta 0:00:01\r\u001b[K     |█████████████████               | 624kB 18.8MB/s eta 0:00:01\r\u001b[K     |█████████████████▍              | 634kB 18.8MB/s eta 0:00:01\r\u001b[K     |█████████████████▋              | 645kB 18.8MB/s eta 0:00:01\r\u001b[K     |██████████████████              | 655kB 18.8MB/s eta 0:00:01\r\u001b[K     |██████████████████▏             | 665kB 18.8MB/s eta 0:00:01\r\u001b[K     |██████████████████▌             | 675kB 18.8MB/s eta 0:00:01\r\u001b[K     |██████████████████▊             | 686kB 18.8MB/s eta 0:00:01\r\u001b[K     |███████████████████             | 696kB 18.8MB/s eta 0:00:01\r\u001b[K     |███████████████████▎            | 706kB 18.8MB/s eta 0:00:01\r\u001b[K     |███████████████████▋            | 716kB 18.8MB/s eta 0:00:01\r\u001b[K     |███████████████████▉            | 727kB 18.8MB/s eta 0:00:01\r\u001b[K     |████████████████████▏           | 737kB 18.8MB/s eta 0:00:01\r\u001b[K     |████████████████████▍           | 747kB 18.8MB/s eta 0:00:01\r\u001b[K     |████████████████████▊           | 757kB 18.8MB/s eta 0:00:01\r\u001b[K     |█████████████████████           | 768kB 18.8MB/s eta 0:00:01\r\u001b[K     |█████████████████████▎          | 778kB 18.8MB/s eta 0:00:01\r\u001b[K     |█████████████████████▌          | 788kB 18.8MB/s eta 0:00:01\r\u001b[K     |█████████████████████▉          | 798kB 18.8MB/s eta 0:00:01\r\u001b[K     |██████████████████████          | 808kB 18.8MB/s eta 0:00:01\r\u001b[K     |██████████████████████▍         | 819kB 18.8MB/s eta 0:00:01\r\u001b[K     |██████████████████████▋         | 829kB 18.8MB/s eta 0:00:01\r\u001b[K     |███████████████████████         | 839kB 18.8MB/s eta 0:00:01\r\u001b[K     |███████████████████████▏        | 849kB 18.8MB/s eta 0:00:01\r\u001b[K     |███████████████████████▌        | 860kB 18.8MB/s eta 0:00:01\r\u001b[K     |███████████████████████▊        | 870kB 18.8MB/s eta 0:00:01\r\u001b[K     |████████████████████████        | 880kB 18.8MB/s eta 0:00:01\r\u001b[K     |████████████████████████▎       | 890kB 18.8MB/s eta 0:00:01\r\u001b[K     |████████████████████████▋       | 901kB 18.8MB/s eta 0:00:01\r\u001b[K     |████████████████████████▉       | 911kB 18.8MB/s eta 0:00:01\r\u001b[K     |█████████████████████████▏      | 921kB 18.8MB/s eta 0:00:01\r\u001b[K     |█████████████████████████▌      | 931kB 18.8MB/s eta 0:00:01\r\u001b[K     |█████████████████████████▊      | 942kB 18.8MB/s eta 0:00:01\r\u001b[K     |██████████████████████████      | 952kB 18.8MB/s eta 0:00:01\r\u001b[K     |██████████████████████████▎     | 962kB 18.8MB/s eta 0:00:01\r\u001b[K     |██████████████████████████▋     | 972kB 18.8MB/s eta 0:00:01\r\u001b[K     |██████████████████████████▉     | 983kB 18.8MB/s eta 0:00:01\r\u001b[K     |███████████████████████████▏    | 993kB 18.8MB/s eta 0:00:01\r\u001b[K     |███████████████████████████▍    | 1.0MB 18.8MB/s eta 0:00:01\r\u001b[K     |███████████████████████████▊    | 1.0MB 18.8MB/s eta 0:00:01\r\u001b[K     |████████████████████████████    | 1.0MB 18.8MB/s eta 0:00:01\r\u001b[K     |████████████████████████████▎   | 1.0MB 18.8MB/s eta 0:00:01\r\u001b[K     |████████████████████████████▌   | 1.0MB 18.8MB/s eta 0:00:01\r\u001b[K     |████████████████████████████▉   | 1.1MB 18.8MB/s eta 0:00:01\r\u001b[K     |█████████████████████████████   | 1.1MB 18.8MB/s eta 0:00:01\r\u001b[K     |█████████████████████████████▍  | 1.1MB 18.8MB/s eta 0:00:01\r\u001b[K     |█████████████████████████████▋  | 1.1MB 18.8MB/s eta 0:00:01\r\u001b[K     |██████████████████████████████  | 1.1MB 18.8MB/s eta 0:00:01\r\u001b[K     |██████████████████████████████▏ | 1.1MB 18.8MB/s eta 0:00:01\r\u001b[K     |██████████████████████████████▌ | 1.1MB 18.8MB/s eta 0:00:01\r\u001b[K     |██████████████████████████████▊ | 1.1MB 18.8MB/s eta 0:00:01\r\u001b[K     |███████████████████████████████ | 1.1MB 18.8MB/s eta 0:00:01\r\u001b[K     |███████████████████████████████▎| 1.1MB 18.8MB/s eta 0:00:01\r\u001b[K     |███████████████████████████████▋| 1.2MB 18.8MB/s eta 0:00:01\r\u001b[K     |███████████████████████████████▉| 1.2MB 18.8MB/s eta 0:00:01\r\u001b[K     |████████████████████████████████| 1.2MB 18.8MB/s \n",
            "\u001b[?25hRequirement already satisfied: python-dateutil>=2.4 in /usr/local/lib/python3.7/dist-packages (from faker) (2.8.1)\n",
            "Requirement already satisfied: text-unidecode==1.3 in /usr/local/lib/python3.7/dist-packages (from faker) (1.3)\n",
            "Requirement already satisfied: six>=1.5 in /usr/local/lib/python3.7/dist-packages (from python-dateutil>=2.4->faker) (1.15.0)\n",
            "Installing collected packages: faker\n",
            "Successfully installed faker-8.10.0\n"
          ],
          "name": "stdout"
        },
        {
          "output_type": "execute_result",
          "data": {
            "text/plain": [
              "{'address': '127 Amber Port Apt. 193\\nLake Louis, NM 43544',\n",
              " 'birthdate': datetime.date(1930, 1, 25),\n",
              " 'blood_group': 'B+',\n",
              " 'company': 'Phelps Ltd',\n",
              " 'current_location': (Decimal('-67.5038395'), Decimal('61.203541')),\n",
              " 'job': 'Film/video editor',\n",
              " 'mail': 'crystalparker@yahoo.com',\n",
              " 'name': 'Joseph Taylor',\n",
              " 'residence': 'USS Williams\\nFPO AP 90240',\n",
              " 'sex': 'M',\n",
              " 'ssn': '871-65-9319',\n",
              " 'username': 'lritter',\n",
              " 'website': ['http://www.jones.org/', 'http://www.diaz.com/']}"
            ]
          },
          "metadata": {
            "tags": []
          },
          "execution_count": 3
        }
      ]
    },
    {
      "cell_type": "code",
      "metadata": {
        "id": "KWIahwQnFuEd"
      },
      "source": [
        "#Create a  Faker object\n",
        "faker = Faker()"
      ],
      "execution_count": 7,
      "outputs": []
    },
    {
      "cell_type": "code",
      "metadata": {
        "colab": {
          "base_uri": "https://localhost:8080/"
        },
        "id": "PjAO35kZGezf",
        "outputId": "d4a6719a-1307-49a7-e3e0-c655f33ebe47"
      },
      "source": [
        "# Generate a fake profile\n",
        "faker.profile()"
      ],
      "execution_count": 8,
      "outputs": [
        {
          "output_type": "execute_result",
          "data": {
            "text/plain": [
              "{'address': '021 Clark Street Suite 460\\nNew Chelsea, IN 11827',\n",
              " 'birthdate': datetime.date(2012, 5, 10),\n",
              " 'blood_group': 'B+',\n",
              " 'company': 'Smith-Morrow',\n",
              " 'current_location': (Decimal('68.6328725'), Decimal('-71.892745')),\n",
              " 'job': 'Conservation officer, nature',\n",
              " 'mail': 'uschneider@gmail.com',\n",
              " 'name': 'Raymond Smith',\n",
              " 'residence': '6594 Gordon Manor\\nClarkbury, MD 41127',\n",
              " 'sex': 'M',\n",
              " 'ssn': '899-53-3745',\n",
              " 'username': 'wwest',\n",
              " 'website': ['https://lee.com/', 'http://smith.net/', 'https://www.reed.com/']}"
            ]
          },
          "metadata": {
            "tags": []
          },
          "execution_count": 8
        }
      ]
    },
    {
      "cell_type": "code",
      "metadata": {
        "colab": {
          "base_uri": "https://localhost:8080/"
        },
        "id": "aufPYmBHHc0e",
        "outputId": "6455cfda-2256-4530-be5b-0df78959223b"
      },
      "source": [
        "from collections import namedtuple\n",
        "#Creating a named tuple with the keys in the fake profile as fields\n",
        "Profile = namedtuple('Profile', faker.profile().keys())\n",
        "#Creating a named tuple with the values in the fake profile\n",
        "profile_values = Profile(*faker.profile().values())\n",
        "profile_values"
      ],
      "execution_count": 15,
      "outputs": [
        {
          "output_type": "execute_result",
          "data": {
            "text/plain": [
              "Profile(job='Prison officer', company='Long-Ruiz', ssn='316-05-4179', residence='04986 Rivera Roads Apt. 350\\nBeltrantown, IA 77212', current_location=(Decimal('-2.8748335'), Decimal('44.415427')), blood_group='B+', website=['http://mays.com/'], username='cooperolivia', name='Lee Rogers', sex='M', address='804 Scott Parkway\\nHollyshire, MT 17500', mail='brianallen@yahoo.com', birthdate=datetime.date(1992, 10, 7))"
            ]
          },
          "metadata": {
            "tags": []
          },
          "execution_count": 15
        }
      ]
    },
    {
      "cell_type": "code",
      "metadata": {
        "colab": {
          "base_uri": "https://localhost:8080/"
        },
        "id": "-wAYtzIkKKpI",
        "outputId": "dad06a1c-e5ea-4f67-e295-a2de9a01d1bc"
      },
      "source": [
        "from time import perf_counter\n",
        "from functools import wraps\n",
        "\n",
        "# A Decorator Wrapper calculating the execution time\n",
        "def calc_time(fn):\n",
        "    '''\n",
        "    Decorator to determine execution time of decorated fn.\n",
        "    '''\n",
        "    @wraps(fn)\n",
        "    def inner(*args, **kwargs) -> \"Function Output\":\n",
        "        \"\"\"\n",
        "        Inner function to calculate the time.\n",
        "        \"\"\"\n",
        "        start = perf_counter()\n",
        "        result = fn(*args, **kwargs)\n",
        "        exec_time = (perf_counter() - start)\n",
        "        return exec_time, result\n",
        "    return inner\n",
        "  \n",
        "@calc_time\n",
        "def sum1():\n",
        "  sum = 0\n",
        "  for i in range(1, 10):\n",
        "    sum = sum + i\n",
        "  return sum\n",
        "\n",
        "sum1_10 = sum1()\n",
        "print(sum1_10)"
      ],
      "execution_count": 19,
      "outputs": [
        {
          "output_type": "stream",
          "text": [
            "(4.54500013802317e-06, 45)\n"
          ],
          "name": "stdout"
        }
      ]
    },
    {
      "cell_type": "markdown",
      "metadata": {
        "id": "mmpey-ZSJz_r"
      },
      "source": [
        "Q1.Use the Faker (Links to an external site.)library to get 10000 random profiles. Using namedtuple, calculate the largest blood type, mean-current_location, oldest_person_age, and average age (add proper doc-strings)."
      ]
    },
    {
      "cell_type": "code",
      "metadata": {
        "id": "LIHVlpRHHFsm"
      },
      "source": [
        "def init_profiles_using_namedtuple(number: int)->\"List of\" + {number} + \"profiles\" :\n",
        "    \"\"\"\n",
        "      Creating fake profiles for given number of people using namedtuples\n",
        "    \"\"\"\n",
        "    profiles = []\n",
        "    Profile = namedtuple('Profile', fake.profile().keys())\n",
        "    for _ in range(number):\n",
        "        profiles.append(Profile(*faker.profile().values()))\n",
        "    return profiles"
      ],
      "execution_count": 20,
      "outputs": []
    },
    {
      "cell_type": "code",
      "metadata": {
        "colab": {
          "base_uri": "https://localhost:8080/"
        },
        "id": "ETw_rfDxN5Jd",
        "outputId": "4988170d-8fd9-4361-b1a6-051622a2a7a5"
      },
      "source": [
        "# Testing Profile Generation Function using Namedtuples\n",
        "init_profiles_using_namedtuple(2)"
      ],
      "execution_count": 21,
      "outputs": [
        {
          "output_type": "execute_result",
          "data": {
            "text/plain": [
              "[Profile(job='Careers information officer', company='Johnson-Garner', ssn='690-99-6680', residence='77187 Sanchez Via Suite 241\\nCantuhaven, OH 62972', current_location=(Decimal('-54.976324'), Decimal('54.126235')), blood_group='AB-', website=['https://obrien-cook.com/'], username='ernestgarcia', name='Timothy Pineda', sex='M', address='0221 Michelle Radial Apt. 248\\nBlairhaven, OH 60233', mail='kathy26@hotmail.com', birthdate=datetime.date(1933, 12, 3)),\n",
              " Profile(job='Theatre manager', company='Adams Inc', ssn='061-79-7890', residence='393 Michael Roads\\nEast Brandonland, ID 87084', current_location=(Decimal('75.0594915'), Decimal('56.896319')), blood_group='A+', website=['https://peters-perkins.info/', 'http://www.johnson.com/'], username='gsimmons', name='Patrick Davis', sex='M', address='81491 Walker Forges\\nWileyfort, OR 10048', mail='mandy63@gmail.com', birthdate=datetime.date(1985, 4, 26))]"
            ]
          },
          "metadata": {
            "tags": []
          },
          "execution_count": 21
        }
      ]
    },
    {
      "cell_type": "code",
      "metadata": {
        "id": "zQWtR-4bOEIR"
      },
      "source": [
        "import datetime\n",
        "@calc_time\n",
        "def oldest_person_nt(all_profile_nt:namedtuple)->float:\n",
        "  \"\"\"\n",
        "  This function finds the oldest person from the slot, calculates the duration. The minimum birthdate and\n",
        "  time is returned.\n",
        "  # Param:\n",
        "    all_profile_nt: Named tuple containing all  profiles\n",
        "  \"\"\"\n",
        "  value = min(all_profile_nt, key=lambda v : v[-1])\n",
        "  date_today = datetime.date.today()\n",
        "  age = (date_today - value.birthdate).days\n",
        "  return int(age/365)"
      ],
      "execution_count": 30,
      "outputs": []
    },
    {
      "cell_type": "code",
      "metadata": {
        "id": "SMSN0AT2OZSa"
      },
      "source": [
        "@calc_time\n",
        "def average_age_nt(all_profile_nt: namedtuple)->tuple:\n",
        "  \"\"\"\n",
        "  This function finds the average age of the person from the slot, calculates the duration to perform that operation. \n",
        "  The average age and time is returned.\n",
        "  # Param:\n",
        "    all_profile_nt: Named tuple containing all  profiles\n",
        "  \"\"\"\n",
        "  today = date.today()\n",
        "  value = sum(map(lambda v : today.year - v[-1].year -((today.month, today.day) < (v[-1].month, v[-1].day)),all_profile_nt))/len(all_profile_nt)\n",
        "  return value"
      ],
      "execution_count": 31,
      "outputs": []
    },
    {
      "cell_type": "code",
      "metadata": {
        "id": "7genRHdqPEu5"
      },
      "source": [
        "from statistics import mode\n",
        "@calc_time\n",
        "def max_bloodgroup_nt(all_profile_nt:namedtuple)->tuple:\n",
        "  \"\"\"\n",
        "  This function uses the mode function defined in statisics library to find the most occured blood group from the list. The list is generated\n",
        "  using the lambda function and returned to the mode function as a parameters. The code is then timed and the result and time is sent back.\n",
        "  # Param:\n",
        "    all_profile_nt: Named tuple containing all  profiles\n",
        "  \"\"\"\n",
        "  blood_group = mode(list(map(lambda v: v[5],all_profile_nt)))\n",
        "  return blood_group"
      ],
      "execution_count": 42,
      "outputs": []
    },
    {
      "cell_type": "code",
      "metadata": {
        "id": "GDAM0ZdFQo8j"
      },
      "source": [
        "@calc_time\n",
        "def average_coords_nt(all_profile_nt:namedtuple)->tuple:\n",
        "  \"\"\"\n",
        "  This function finds the average coordinates  from the slot, calculates the duration to perform that operation. \n",
        "  The average coordinates and time is returned.\n",
        "  # Param:\n",
        "    all_profile_nt: Named tuple containing all  profiles\n",
        "  \"\"\"\n",
        "  x, y = sum(map(lambda t: t[0],map(lambda v : v[4],all_profile_nt)))/len(all_profile_nt),sum(map(lambda t: t[1],map(lambda v : v[4],all_profile_nt)))/len(all_profile_nt)\n",
        "  return x, y"
      ],
      "execution_count": 37,
      "outputs": []
    },
    {
      "cell_type": "code",
      "metadata": {
        "colab": {
          "base_uri": "https://localhost:8080/"
        },
        "id": "EsD49fT-PM7s",
        "outputId": "2cb663d7-5e12-4ccc-8d91-2f75e3ff5e48"
      },
      "source": [
        "NUM_PROFILES = 10000\n",
        "fk_Profile_nt = init_profiles_using_namedtuple(NUM_PROFILES)\n",
        "len(fk_Profile_nt)"
      ],
      "execution_count": 58,
      "outputs": [
        {
          "output_type": "execute_result",
          "data": {
            "text/plain": [
              "10000"
            ]
          },
          "metadata": {
            "tags": []
          },
          "execution_count": 58
        }
      ]
    },
    {
      "cell_type": "code",
      "metadata": {
        "colab": {
          "base_uri": "https://localhost:8080/"
        },
        "id": "tEFglCdmPWZ3",
        "outputId": "19c80bcb-e070-4fb8-de2d-f3fd1384c092"
      },
      "source": [
        "oldest_person_nt(fk_Profile_nt)"
      ],
      "execution_count": 34,
      "outputs": [
        {
          "output_type": "execute_result",
          "data": {
            "text/plain": [
              "(0.007281448999947315, 116)"
            ]
          },
          "metadata": {
            "tags": []
          },
          "execution_count": 34
        }
      ]
    },
    {
      "cell_type": "code",
      "metadata": {
        "colab": {
          "base_uri": "https://localhost:8080/"
        },
        "id": "XKpFt4PuPZA4",
        "outputId": "09726b92-bb76-4679-bd65-9a0641ab5892"
      },
      "source": [
        "average_age_nt(fk_Profile_nt)"
      ],
      "execution_count": 35,
      "outputs": [
        {
          "output_type": "execute_result",
          "data": {
            "text/plain": [
              "(0.01603229999955147, 58.0329)"
            ]
          },
          "metadata": {
            "tags": []
          },
          "execution_count": 35
        }
      ]
    },
    {
      "cell_type": "code",
      "metadata": {
        "colab": {
          "base_uri": "https://localhost:8080/"
        },
        "id": "wCtwQ4lxQc4t",
        "outputId": "35a51cca-ba3b-4350-a326-bde1261ac05b"
      },
      "source": [
        "average_coords_nt(fk_Profile_nt)"
      ],
      "execution_count": 38,
      "outputs": [
        {
          "output_type": "execute_result",
          "data": {
            "text/plain": [
              "(0.025327052000193362, (Decimal('0.62401099205'), Decimal('0.9598052515')))"
            ]
          },
          "metadata": {
            "tags": []
          },
          "execution_count": 38
        }
      ]
    },
    {
      "cell_type": "code",
      "metadata": {
        "colab": {
          "base_uri": "https://localhost:8080/"
        },
        "id": "J6dRQBzYQs42",
        "outputId": "c440d927-8d73-48b9-8dba-d014f9401024"
      },
      "source": [
        "max_bloodgroup_nt(fk_Profile_nt)"
      ],
      "execution_count": 43,
      "outputs": [
        {
          "output_type": "execute_result",
          "data": {
            "text/plain": [
              "(0.006411085999843635, 'AB-')"
            ]
          },
          "metadata": {
            "tags": []
          },
          "execution_count": 43
        }
      ]
    },
    {
      "cell_type": "code",
      "metadata": {
        "colab": {
          "base_uri": "https://localhost:8080/"
        },
        "id": "3hNVtajPO0QS",
        "outputId": "b7576881-fee3-4611-a620-4ba8ebe62de7"
      },
      "source": [
        "ti = 0\n",
        "for _ in range(NUM_PROFILES):\n",
        "    total_exec_time_nt = oldest_person_nt(fk_Profile_nt)[0] + average_age_nt(fk_Profile_nt)[0] + average_coords_nt(fk_Profile_nt)[0]+ max_bloodgroup_nt(fk_Profile_nt)[0] \n",
        "    ti+=total_exec_time_nt\n",
        "print(ti/N)"
      ],
      "execution_count": 44,
      "outputs": [
        {
          "output_type": "stream",
          "text": [
            "0.02322112955240682\n"
          ],
          "name": "stdout"
        }
      ]
    },
    {
      "cell_type": "markdown",
      "metadata": {
        "id": "uBXbVVl1SKVY"
      },
      "source": [
        "##Question 2\n",
        "Do the same thing above using a dictionary. Prove that namedtuple is faster."
      ]
    },
    {
      "cell_type": "code",
      "metadata": {
        "colab": {
          "base_uri": "https://localhost:8080/"
        },
        "id": "WVFcWS2lSEMj",
        "outputId": "badaef0a-ff51-4504-fa74-06e353731ebb"
      },
      "source": [
        "# Converting the Data generated above as list of Dictionary\n",
        "fk_Profile_dict = {'Profile'+str(i):t._asdict() for i, t in enumerate(fk_Profile_nt)}\n",
        "fk_Profile_dict['Profile1']"
      ],
      "execution_count": 52,
      "outputs": [
        {
          "output_type": "execute_result",
          "data": {
            "text/plain": [
              "OrderedDict([('job', 'Designer, jewellery'),\n",
              "             ('company', 'Sutton, Jacobs and Booker'),\n",
              "             ('ssn', '503-03-7243'),\n",
              "             ('residence',\n",
              "              '8539 Boyle Lane Apt. 472\\nEast Whitneyhaven, KY 42930'),\n",
              "             ('current_location',\n",
              "              (Decimal('84.447847'), Decimal('41.051671'))),\n",
              "             ('blood_group', 'A-'),\n",
              "             ('website',\n",
              "              ['https://www.pruitt.com/',\n",
              "               'https://davis.com/',\n",
              "               'https://www.robbins.net/']),\n",
              "             ('username', 'stephenhill'),\n",
              "             ('name', 'Charles Glenn'),\n",
              "             ('sex', 'M'),\n",
              "             ('address',\n",
              "              '62377 Crystal Cove Suite 805\\nBradleyside, NH 83886'),\n",
              "             ('mail', 'ydominguez@hotmail.com'),\n",
              "             ('birthdate', datetime.date(1952, 5, 27))])"
            ]
          },
          "metadata": {
            "tags": []
          },
          "execution_count": 52
        }
      ]
    },
    {
      "cell_type": "code",
      "metadata": {
        "id": "VmQWlsuEUIJc"
      },
      "source": [
        "@calc_time\n",
        "def oldest_person_dc(all_profile_dict:dict)->float:\n",
        "  \"\"\"\n",
        "  This function finds the oldest person from the slot, calculates the duration. The minimum birthdate and\n",
        "  time is returned.\n",
        "  # Param:\n",
        "    all_profile_dc: dictionary containing all  profiles\n",
        "  \"\"\"\n",
        "  value = min(all_profile_dict.values(),key = lambda v : v['birthdate'])\n",
        "  date_today = datetime.date.today()\n",
        "  age = (date_today - value['birthdate']).days  \n",
        "  return int(age/365)"
      ],
      "execution_count": 54,
      "outputs": []
    },
    {
      "cell_type": "code",
      "metadata": {
        "id": "K5XBG68RYWPf"
      },
      "source": [
        "@calc_time\n",
        "def average_coords_dc(all_profile_dict:dict)->tuple:\n",
        "  \"\"\"\n",
        "  This function finds the average coordinates  from the slot, calculates the duration to perform that operation. \n",
        "  The average coordinates and time is returned.\n",
        "  # Param:\n",
        "    all_profile_dc: dictionary containing all profiles\n",
        "  \"\"\"\n",
        "  x,y = sum(map(lambda t: t[0],map(lambda v : v['current_location'],all_profile_dict.values())))/len(all_profile_dict.values()),sum(map(lambda t: t[1],map(lambda v : v['current_location'],all_profile_dict.values())))/len(all_profile_dict.values())\n",
        "  return x, y"
      ],
      "execution_count": 55,
      "outputs": []
    },
    {
      "cell_type": "code",
      "metadata": {
        "id": "jbQSxnzFYaf4"
      },
      "source": [
        "@calc_time\n",
        "def max_bloodgroup_dc(all_profile_dict:dict)->tuple:\n",
        "  \"\"\"\n",
        "  This function uses the mode function defined in statisics library to find the most occured blood group from the list. The list is generated\n",
        "  using the lambda function and returned to the mode function as a parameters. The code is then timed and the result and time is sent back.\n",
        "  # Param:\n",
        "    all_profile_dc: dictionary containing all profiles\n",
        "  \"\"\"\n",
        "  value = mode(list(map(lambda v: v['blood_group'],all_profile_dict.values())))\n",
        "  return value"
      ],
      "execution_count": 56,
      "outputs": []
    },
    {
      "cell_type": "code",
      "metadata": {
        "id": "CLWm5UM5ZrOq"
      },
      "source": [
        "@calc_time\n",
        "def average_age_dc(all_profile_dict:dict)-> float:\n",
        "  \"\"\"\n",
        "  This function finds the average age of the person from the slot, calculates the duration to perform that operation. \n",
        "  The average age and time is returned.\n",
        "  # Param:\n",
        "    all_profile_dc: Dictionary containing all  profiles\n",
        "  \"\"\"\n",
        "  today = date.today()\n",
        "  value = sum(map(lambda v : today.year - v['birthdate'].year -((today.month, today.day) < (v['birthdate'].month, v['birthdate'].day)),all_profile_dict.values()))/len(all_profile_dict)\n",
        "  return value"
      ],
      "execution_count": 63,
      "outputs": []
    },
    {
      "cell_type": "code",
      "metadata": {
        "colab": {
          "base_uri": "https://localhost:8080/"
        },
        "id": "rUPCuyJiYxjh",
        "outputId": "cad6dd31-1dde-49c6-9e6e-631769229a8e"
      },
      "source": [
        "oldest_person_dc(fk_Profile_dict)"
      ],
      "execution_count": 64,
      "outputs": [
        {
          "output_type": "execute_result",
          "data": {
            "text/plain": [
              "(0.008478042999740865, 116)"
            ]
          },
          "metadata": {
            "tags": []
          },
          "execution_count": 64
        }
      ]
    },
    {
      "cell_type": "code",
      "metadata": {
        "colab": {
          "base_uri": "https://localhost:8080/"
        },
        "id": "ArvY_Hq_Y2No",
        "outputId": "7317f872-180c-4c28-d0ee-fe0009353cae"
      },
      "source": [
        "average_age_dc(fk_Profile_dict)"
      ],
      "execution_count": 65,
      "outputs": [
        {
          "output_type": "execute_result",
          "data": {
            "text/plain": [
              "(0.014110887000242656, 58.0329)"
            ]
          },
          "metadata": {
            "tags": []
          },
          "execution_count": 65
        }
      ]
    },
    {
      "cell_type": "code",
      "metadata": {
        "colab": {
          "base_uri": "https://localhost:8080/"
        },
        "id": "Ptuq8duhY5lt",
        "outputId": "7565c153-32dd-4ea1-c467-4378e3daeaa7"
      },
      "source": [
        "average_coords_dc(fk_Profile_dict)"
      ],
      "execution_count": 61,
      "outputs": [
        {
          "output_type": "execute_result",
          "data": {
            "text/plain": [
              "(0.020287801999984367, (Decimal('0.62401099205'), Decimal('0.9598052515')))"
            ]
          },
          "metadata": {
            "tags": []
          },
          "execution_count": 61
        }
      ]
    },
    {
      "cell_type": "code",
      "metadata": {
        "colab": {
          "base_uri": "https://localhost:8080/"
        },
        "id": "HIDEGSBdZBFv",
        "outputId": "14826c90-7158-4665-ed68-ed38f7a88852"
      },
      "source": [
        "max_bloodgroup_dc(fk_Profile_dict)"
      ],
      "execution_count": 66,
      "outputs": [
        {
          "output_type": "execute_result",
          "data": {
            "text/plain": [
              "(0.00723126799948659, 'AB-')"
            ]
          },
          "metadata": {
            "tags": []
          },
          "execution_count": 66
        }
      ]
    },
    {
      "cell_type": "code",
      "metadata": {
        "colab": {
          "base_uri": "https://localhost:8080/"
        },
        "id": "zLYKRWHxZCUG",
        "outputId": "f9be7506-5990-4d05-8c49-a175e2012bde"
      },
      "source": [
        "ti = 0\n",
        "for i in range(NUM_PROFILES):\n",
        "    total_exec_time_dc = oldest_person_dc(fk_Profile_dict)[0] + average_age_dc(fk_Profile_dict)[0] + average_coords_dc(fk_Profile_dict)[0]+ max_bloodgroup_dc(fk_Profile_dict)[0] \n",
        "    ti+=total_exec_time_dc\n",
        "print(ti/N)"
      ],
      "execution_count": 67,
      "outputs": [
        {
          "output_type": "stream",
          "text": [
            "0.03577594363800663\n"
          ],
          "name": "stdout"
        }
      ]
    },
    {
      "cell_type": "markdown",
      "metadata": {
        "id": "5x69wF99Z9Vk"
      },
      "source": [
        "##Question3\n",
        "Create fake data (you can use Faker for company names) for imaginary stock exchange for top 100 companies (name, symbol, open, high, close). Assign a random weight to all the companies. Calculate and show what value the stock market started at, what was the highest value during the day, and where did it end. Make sure your open, high, close are not totally random. You can only use namedtuple."
      ]
    },
    {
      "cell_type": "code",
      "metadata": {
        "id": "8BJe9HbCaI2N"
      },
      "source": [
        "# Returns a Symbol for the Company\n",
        "def symbol(string):\n",
        "    \"\"\"Returns joined string if characters are upper case\"\"\"\n",
        "    L = len(string)\n",
        "    P1 = random.randint(1,L-1,2)\n",
        "    chars = []\n",
        "    for char in string:\n",
        "        chars.append(char)\n",
        "    chars[P1[0]] = chars[P1[0]].upper()\n",
        "    chars[P1[1]] = chars[P1[1]].upper()\n",
        "    \n",
        "    return ''.join(x for x in chars if x.isupper())"
      ],
      "execution_count": 74,
      "outputs": []
    },
    {
      "cell_type": "code",
      "metadata": {
        "id": "X4TUq2wGaONY"
      },
      "source": [
        "from numpy import random\n",
        "def stock_market():\n",
        "    \"\"\"\n",
        "    To create a fake stock data set for imaginary stock exchange for top 100 companies (name, symbol, open, high, close).\n",
        "    Tasks_ToDo: Assign a random weight to all the companies. Calculate and show what value stock market started at, what was the highest value during the day and where did it end.\n",
        "    \"\"\"\n",
        "    all_companies = []\n",
        "    Stocks = namedtuple(\"Stocks\", 'name symbol open high close company_weight')\n",
        "    MkValue_  = random.uniform(1000, 50000, 100)\n",
        "    wts_ = random.uniform(0,1,100)\n",
        "    wts_ = wts_/sum(wts_)\n",
        "    \n",
        "    for _ in range(100):\n",
        "        name = faker.company()\n",
        "        open_ = round(MkValue_[_], 2)*wts_[_]\n",
        "        close = round(open_ * random.uniform(0.7,1.15),2)\n",
        "        high = round(open_ * random.uniform(0.85,1.15),2)\n",
        "        if high < open_:\n",
        "            high = open_\n",
        "        if high < close:\n",
        "            high = close\n",
        "\n",
        "        all_companies.append(\n",
        "            Stocks(name=name, symbol=symbol(name), open=open_, high=round(high, 2), close=round(close, 2), company_weight=round(wts_[_], 4)))\n",
        "\n",
        "    stock_index = round(sum(x.open * x.company_weight for x in all_companies), 4)\n",
        "    highest_for_day = round(sum(x.high * x.company_weight for x in all_companies), 2)\n",
        "    lowest_close_for_day = round(sum(x.close * x.company_weight for x in all_companies), 2)\n",
        "\n",
        "    print(f\"\\n------------------------------------Top 100 listed companies on Fake Stock Exchange------------------------------------\")\n",
        "    [print(x) for x in sorted(all_companies, key=lambda x:x.symbol)]\n",
        "    print(f\"\\n--------------Main details on {date.today()}--------------\")\n",
        "    print(f\"\\nStart of the day: {stock_index}\")\n",
        "    print(f\"Highest for the day: {highest_for_day}\")"
      ],
      "execution_count": 75,
      "outputs": []
    },
    {
      "cell_type": "code",
      "metadata": {
        "colab": {
          "base_uri": "https://localhost:8080/"
        },
        "id": "f5XxZ_6FZzHx",
        "outputId": "4c5d1cf7-7a1f-4e12-82c3-f9062589a5ac"
      },
      "source": [
        "stock_market()"
      ],
      "execution_count": 76,
      "outputs": [
        {
          "output_type": "stream",
          "text": [
            "\n",
            "------------------------------------Top 100 listed companies on Fake Stock Exchange------------------------------------\n",
            "Stocks(name='Adams and Sons', symbol='ANSO', open=169.1237148353054, high=185.71, close=133.94, company_weight=0.0052)\n",
            "Stocks(name='Banks-Gross', symbol='BAKG', open=677.469480344111, high=726.69, close=726.69, company_weight=0.0151)\n",
            "Stocks(name='Boyd, Bennett and Kane', symbol='BBNK', open=528.3755253140196, high=528.38, close=485.31, company_weight=0.0143)\n",
            "Stocks(name='Baker and Sons', symbol='BES', open=400.14033838318016, high=417.85, close=341.47, company_weight=0.0124)\n",
            "Stocks(name='Brown, Henson and Murray', symbol='BHNM', open=47.13951395976649, high=51.73, close=49.75, company_weight=0.0041)\n",
            "Stocks(name='Baldwin, Gutierrez and Oliver', symbol='BIGEO', open=179.87068230397045, high=205.72, close=185.37, company_weight=0.0054)\n",
            "Stocks(name='Bridges, Perkins and Patel', symbol='BIPP', open=183.0261661835299, high=183.03, close=144.79, company_weight=0.0114)\n",
            "Stocks(name='Buck, Mcdowell and Armstrong', symbol='BMAA', open=431.9550291833364, high=431.96, close=407.02, company_weight=0.0099)\n",
            "Stocks(name='Benson-Huerta', symbol='BNNH', open=519.5919206186576, high=519.59, close=474.25, company_weight=0.0154)\n",
            "Stocks(name='Barton, Rodriguez and Skinner', symbol='BNRS', open=69.67829125788032, high=79.85, close=79.85, company_weight=0.0022)\n",
            "Stocks(name='Boyd-Owens', symbol='BOE', open=417.2953169169356, high=417.3, close=338.09, company_weight=0.0171)\n",
            "Stocks(name='Brown-Holmes', symbol='BOH', open=30.99420565539194, high=33.81, close=33.81, company_weight=0.0007)\n",
            "Stocks(name='Burton-Russell', symbol='BORS', open=11.374529472255102, high=12.98, close=12.98, company_weight=0.0074)\n",
            "Stocks(name='Brooks, Taylor and Schaefer', symbol='BOTRS', open=190.769064426592, high=205.83, close=187.89, company_weight=0.014)\n",
            "Stocks(name='Bond, White and Nelson', symbol='BOWNS', open=181.63931692303717, high=195.24, close=163.28, company_weight=0.0061)\n",
            "Stocks(name='Best, Russell and Shaw', symbol='BRULS', open=26.21600662840992, high=27.81, close=20.31, company_weight=0.0056)\n",
            "Stocks(name='Bowers and Sons', symbol='BS', open=348.2460422751416, high=375.24, close=267.73, company_weight=0.0088)\n",
            "Stocks(name='Calderon LLC', symbol='CAOLLC', open=505.6049569806537, high=505.6, close=466.59, company_weight=0.0132)\n",
            "Stocks(name='Castaneda-Rodgers', symbol='CARD', open=316.8043391051053, high=343.12, close=232.16, company_weight=0.0087)\n",
            "Stocks(name='Castillo Group', symbol='CLGU', open=512.2452591323378, high=552.67, close=552.67, company_weight=0.0126)\n",
            "Stocks(name='Carson-Collins', symbol='COC', open=408.1357196402887, high=423.5, close=324.41, company_weight=0.0113)\n",
            "Stocks(name='Cohen, Larson and Singh', symbol='COLAS', open=113.85545932775716, high=119.98, close=109.51, company_weight=0.0135)\n",
            "Stocks(name='Carson-Jones', symbol='CRJN', open=328.50237172460595, high=328.5, close=321.19, company_weight=0.0135)\n",
            "Stocks(name='Cervantes, Snyder and Ramos', symbol='CSDR', open=257.5989454417823, high=257.6, close=230.61, company_weight=0.0111)\n",
            "Stocks(name='Day Inc', symbol='DAI', open=307.15601920741125, high=307.16, close=277.6, company_weight=0.0126)\n",
            "Stocks(name='Dominguez, Crawford and Thomas', symbol='DUCTH', open=64.45467238890578, high=70.75, close=70.75, company_weight=0.0102)\n",
            "Stocks(name='Davis, Wilson and Savage', symbol='DWNS', open=26.458906611367205, high=26.86, close=24.88, company_weight=0.0102)\n",
            "Stocks(name='Edwards, Nguyen and Collins', symbol='ENYC', open=267.586163188412, high=267.59, close=239.58, company_weight=0.0173)\n",
            "Stocks(name='Fields-Mccann', symbol='FDMC', open=181.94887976406454, high=181.95, close=154.93, company_weight=0.0086)\n",
            "Stocks(name='Foster-Davila', symbol='FERD', open=63.907573732110706, high=63.91, close=46.77, company_weight=0.0147)\n",
            "Stocks(name='Flowers, Walton and Richards', symbol='FLWAR', open=155.97092745916183, high=177.86, close=166.72, company_weight=0.0049)\n",
            "Stocks(name='Flores, Morgan and Evans', symbol='FME', open=636.5151344282698, high=636.52, close=504.73, company_weight=0.013)\n",
            "Stocks(name='Fisher-Nelson', symbol='FNEO', open=340.83732420950804, high=363.71, close=298.19, company_weight=0.0124)\n",
            "Stocks(name='Finley PLC', symbol='FNLPLC', open=16.7379088792693, high=16.74, close=12.34, company_weight=0.0117)\n",
            "Stocks(name='Gilbert-Ayala', symbol='GAA', open=476.61090424227535, high=523.16, close=523.16, company_weight=0.0135)\n",
            "Stocks(name='Green, Koch and Wilson', symbol='GEKW', open=551.4329968565619, high=560.24, close=560.24, company_weight=0.0125)\n",
            "Stocks(name='Gonzales, Powell and Miller', symbol='GPAME', open=493.320091991781, high=493.32, close=371.85, company_weight=0.0125)\n",
            "Stocks(name='Hernandez-Chambers', symbol='HAZC', open=29.790891505226927, high=30.01, close=30.01, company_weight=0.001)\n",
            "Stocks(name='Hernandez Ltd', symbol='HDLT', open=272.07592410786384, high=276.84, close=246.94, company_weight=0.0138)\n",
            "Stocks(name='Herring, Hall and Wallace', symbol='HGHWA', open=187.48671332530952, high=187.49, close=144.77, company_weight=0.0046)\n",
            "Stocks(name='Harris Inc', symbol='HII', open=41.68287033655941, high=46.02, close=36.57, company_weight=0.001)\n",
            "Stocks(name='Hubbard, Knight and Price', symbol='HKTAP', open=126.06008802629563, high=141.52, close=135.79, company_weight=0.0039)\n",
            "Stocks(name='Hill LLC', symbol='HLLLC', open=377.25315914913756, high=397.4, close=397.4, company_weight=0.0117)\n",
            "Stocks(name='Hayes, Lopez and Gonzalez', symbol='HLOGE', open=184.4722681948826, high=202.83, close=165.18, company_weight=0.0109)\n",
            "Stocks(name='Herrera, Lewis and Reese', symbol='HLWR', open=84.8776106673751, high=84.88, close=64.55, company_weight=0.0096)\n",
            "Stocks(name='Huff-Mahoney', symbol='HMN', open=549.7549103730997, high=549.75, close=522.32, company_weight=0.0122)\n",
            "Stocks(name='Herrera, Rodriguez and Thompson', symbol='HRDTH', open=461.84979174331033, high=490.08, close=490.08, company_weight=0.0099)\n",
            "Stocks(name='Harris-Robertson', symbol='HROE', open=666.2669233510408, high=693.8, close=536.33, company_weight=0.0149)\n",
            "Stocks(name='Henry-Johnson', symbol='HRYJ', open=138.41331188754785, high=138.41, close=102.12, company_weight=0.0043)\n",
            "Stocks(name='Hunter-Rogers', symbol='HTRO', open=341.75646520646154, high=353.39, close=353.39, company_weight=0.008)\n",
            "Stocks(name='Hughes PLC', symbol='HUGPLC', open=297.70764361152027, high=297.71, close=244.23, company_weight=0.0101)\n",
            "Stocks(name='Johnson-Ramos', symbol='JHRM', open=17.565699126585287, high=18.95, close=16.79, company_weight=0.004)\n",
            "Stocks(name='Jordan, Moore and Hunter', symbol='JNMHT', open=200.9706592254943, high=213.31, close=213.31, company_weight=0.0105)\n",
            "Stocks(name='Jennings-Palmer', symbol='JNPA', open=223.06568335616987, high=234.36, close=226.06, company_weight=0.0129)\n",
            "Stocks(name='Jones Inc', symbol='JOI', open=387.16944574181576, high=387.17, close=376.83, company_weight=0.0163)\n",
            "Stocks(name='King, Bell and Kelly', symbol='KBLK', open=128.98956553749508, high=145.85, close=145.85, company_weight=0.0047)\n",
            "Stocks(name='Lee LLC', symbol='LELLC', open=8.294110685951752, high=8.61, close=8.61, company_weight=0.0002)\n",
            "Stocks(name='Lozano LLC', symbol='LNOLLC', open=251.1567508884137, high=283.61, close=283.47, company_weight=0.0073)\n",
            "Stocks(name='Larson, Lopez and Jackson', symbol='LOLNJ', open=38.88897312752678, high=44.25, close=36.46, company_weight=0.0084)\n",
            "Stocks(name='Maxwell-Garrett', symbol='MAG', open=794.6223451707626, high=845.94, close=652.8, company_weight=0.0163)\n",
            "Stocks(name='Marshall Inc', symbol='MARI', open=20.58412354621559, high=23.27, close=22.76, company_weight=0.0028)\n",
            "Stocks(name='Martinez-Marks', symbol='MARM', open=483.42683969511273, high=521.67, close=433.24, company_weight=0.0143)\n",
            "Stocks(name='Marquez PLC', symbol='MEZPLC', open=310.51425847564747, high=351.84, close=351.84, company_weight=0.0094)\n",
            "Stocks(name='Mendez Group', symbol='MGU', open=399.4723529761116, high=399.47, close=283.59, company_weight=0.0144)\n",
            "Stocks(name='Myers-Chavez', symbol='MRC', open=110.13439166028036, high=110.13, close=87.2, company_weight=0.011)\n",
            "Stocks(name='Martinez Group', symbol='MRGR', open=170.33920469281804, high=191.14, close=162.2, company_weight=0.0135)\n",
            "Stocks(name='Mathis, Riley and Horton', symbol='MRIYH', open=627.3547400682986, high=665.79, close=665.79, company_weight=0.0151)\n",
            "Stocks(name='Park, Cortez and Jennings', symbol='PCORJ', open=39.32798757426721, high=40.86, close=29.85, company_weight=0.0055)\n",
            "Stocks(name='Perez, Jackson and Bowman', symbol='PJDB', open=487.82339777460686, high=487.82, close=441.37, company_weight=0.0111)\n",
            "Stocks(name='Parker-Skinner', symbol='PSK', open=33.87862635686764, high=36.99, close=31.39, company_weight=0.0073)\n",
            "Stocks(name='Ross, Anderson and Mason', symbol='RAMO', open=24.698160125909133, high=24.7, close=21.2, company_weight=0.0131)\n",
            "Stocks(name='Ray, Jackson and Norton', symbol='RJNR', open=106.52774324372321, high=106.53, close=88.48, company_weight=0.005)\n",
            "Stocks(name='Roberts LLC', symbol='RTLLC', open=247.89731723553828, high=256.96, close=201.83, company_weight=0.0119)\n",
            "Stocks(name='Rodriguez, Thomas and Reyes', symbol='RTRY', open=481.42266986079505, high=481.42, close=422.04, company_weight=0.016)\n",
            "Stocks(name='Reynolds, Watson and Ponce', symbol='RWPC', open=626.7829497480807, high=626.78, close=595.61, company_weight=0.0152)\n",
            "Stocks(name='Smith, Evans and Thompson', symbol='SEATO', open=25.951723850058457, high=25.95, close=24.39, company_weight=0.0044)\n",
            "Stocks(name='Schneider Inc', symbol='SEII', open=38.81340794908847, high=44.46, close=29.03, company_weight=0.0027)\n",
            "Stocks(name='Smith, Marshall and Crawford', symbol='SIMCR', open=441.5974395574175, high=473.48, close=382.22, company_weight=0.0119)\n",
            "Stocks(name='Sanchez-Johnston', symbol='SJO', open=205.44099395452363, high=223.62, close=223.62, company_weight=0.0076)\n",
            "Stocks(name='Solis Ltd', symbol='SOLT', open=98.45271748117504, high=112.36, close=112.36, company_weight=0.0045)\n",
            "Stocks(name='Shaffer-Molina', symbol='SRMO', open=235.90319654388682, high=243.5, close=243.5, company_weight=0.0063)\n",
            "Stocks(name='Smith, Reeves and Lawrence', symbol='SRVL', open=160.51763895906984, high=182.75, close=175.53, company_weight=0.0112)\n",
            "Stocks(name='Stevens Ltd', symbol='SSL', open=554.3160032982923, high=568.08, close=531.69, company_weight=0.0136)\n",
            "Stocks(name='Stokes-Stone', symbol='SSN', open=449.9022314685368, high=516.67, close=497.69, company_weight=0.0121)\n",
            "Stocks(name='Smith, Byrd and Williams', symbol='STBW', open=112.8675258526729, high=113.97, close=86.4, company_weight=0.0082)\n",
            "Stocks(name='Smith, Walker and Roberts', symbol='SWRB', open=653.9218339966112, high=713.1, close=535.03, company_weight=0.0149)\n",
            "Stocks(name='Tran LLC', symbol='TLLC', open=265.1960830891215, high=294.36, close=201.48, company_weight=0.0162)\n",
            "Stocks(name='Thomas-Marshall', symbol='TMA', open=379.73728925429646, high=379.74, close=298.95, company_weight=0.0146)\n",
            "Stocks(name='Taylor, Snyder and Miller', symbol='TSMIL', open=202.88031371774937, high=202.88, close=178.92, company_weight=0.007)\n",
            "Stocks(name='Turner-Warren', symbol='TWRR', open=147.29060961880654, high=156.47, close=114.33, company_weight=0.0078)\n",
            "Stocks(name='Williams-Freeman', symbol='WAFA', open=311.9512066587025, high=350.63, close=251.06, company_weight=0.0155)\n",
            "Stocks(name='Wilson and Sons', symbol='WDSO', open=177.07125560285982, high=195.21, close=160.58, company_weight=0.0157)\n",
            "Stocks(name='Williams and Sons', symbol='WIS', open=445.87574908263844, high=484.1, close=478.07, company_weight=0.0119)\n",
            "Stocks(name='Williams-Cooper', symbol='WLC', open=30.65368456291712, high=33.56, close=22.33, company_weight=0.0113)\n",
            "Stocks(name='Wilson Group', symbol='WLG', open=342.16321143443173, high=388.74, close=388.74, company_weight=0.0075)\n",
            "Stocks(name='Watson PLC', symbol='WNPLC', open=418.86084177939466, high=420.87, close=366.46, company_weight=0.0088)\n",
            "Stocks(name='Ware Group', symbol='WRGU', open=247.94123805739943, high=254.72, close=215.33, company_weight=0.0162)\n",
            "Stocks(name='White Inc', symbol='WTI', open=20.76353056460414, high=20.76, close=15.4, company_weight=0.0044)\n",
            "Stocks(name='Wiley PLC', symbol='WYPLC', open=65.50953533931026, high=65.51, close=57.87, company_weight=0.0046)\n",
            "Stocks(name='York, Hooper and Hutchinson', symbol='YHOHI', open=77.3980812256126, high=82.4, close=75.36, company_weight=0.0056)\n",
            "\n",
            "--------------Main details on 2021-07-10--------------\n",
            "\n",
            "Start of the day: 321.5321\n",
            "Highest for the day: 335.48\n"
          ],
          "name": "stdout"
        }
      ]
    },
    {
      "cell_type": "code",
      "metadata": {
        "id": "U2uMrfuMbxfD"
      },
      "source": [
        "from decimal import Decimal\n",
        "README_CONTENT_CHECK_FOR = [\n",
        "    \"timed\",\n",
        "    \"oldest_person_nt\",\n",
        "    \"average_age_nt\",\n",
        "    \"average_coords_nt\",\n",
        "    \"max_bloodgroup_nt\",\n",
        "    \"oldest_person_dc\",\n",
        "    \"average_age_dc\",\n",
        "    \"average_coords_dc\",\n",
        "    \"max_bloodgroup_dc\",\n",
        "    \"symbol\",\n",
        "    \"stock_market\"\n",
        "]\n",
        "\n",
        "fake = Faker()\n",
        "def test_readme_exists():\n",
        "    assert os.path.isfile(\"README.md\"), \"README.md file missing!\"\n",
        "\n",
        "def test_readme_contents():\n",
        "    readme = open(\"README.md\", \"r\")\n",
        "    readme_words = readme.read().split()\n",
        "    readme.close()\n",
        "    assert len(readme_words) >= 500, \"Make your README.md file interesting! Add atleast 500 words\"\n",
        "\n",
        "def test_readme_proper_description():\n",
        "    READMELOOKSGOOD = True\n",
        "    f = open(\"README.md\", \"r\", encoding=\"utf-8\")\n",
        "    content = f.read()\n",
        "    f.close()\n",
        "    for c in README_CONTENT_CHECK_FOR:\n",
        "        if c not in content:\n",
        "            READMELOOKSGOOD = False\n",
        "            pass\n",
        "    assert READMELOOKSGOOD == True, \"You have not described all the functions/class well in your README.md file\"\n",
        "\n",
        "def test_readme_file_for_formatting():\n",
        "    f = open(\"README.md\", \"r\", encoding=\"utf-8\")\n",
        "    content = f.read()\n",
        "    f.close()\n",
        "    assert content.count(\"#\") >= 10\n",
        "\n",
        "def test_indentations():\n",
        "    ''' Returns pass if used four spaces for each level of syntactically \\\n",
        "    significant indenting.'''\n",
        "    lines = inspect.getsource(session9)\n",
        "    spaces = re.findall('\\n +.', lines)\n",
        "    for space in spaces:\n",
        "        assert len(space) % 4 == 2, \"Your script contains misplaced indentations\"\n",
        "        assert len(re.sub(r'[^ ]', '', space)) % 4 == 0, \"Your code indentation does not follow PEP8 guidelines\"\n",
        "\n",
        "def test_function_name_had_cap_letter():\n",
        "    functions = inspect.getmembers(session9, inspect.isfunction)\n",
        "    for function in functions:\n",
        "        assert len(re.findall('([A-Z])', function[0])) == 0, \"You have used Capital letter(s) in your function names\"\n",
        "\n",
        "\n",
        "Profile = namedtuple('Profile', fake.profile().keys())\n",
        "named_tuples = [Profile('AA','GH', '200-000-222','Texas',(Decimal('-46.204908'), Decimal('-168.530504')), 'O+','www.ddd.com','GP','KS', 'M','qqq','s@dys.com', date(1968, 1, 25)),\n",
        "                Profile('LC','GCB','000-000-000','Austin',(Decimal('75.9842075'), Decimal('-17.257017')), 'B+','www.www.www','WD','JB','F','AAA','sdg', date(1931, 10, 25)),\n",
        "                Profile('GG','DFG','000-111-000','AX',(Decimal('-43.994425'), Decimal('107.105065')),'O-','sss','IS','AC','F','SSS','GHF',date(1993, 3, 20)),\n",
        "                Profile('LS','DD','000-222-333','DS',(Decimal('-6.979771'), Decimal('-51.459563')),'O+','www','DG','CD','F','SDF','DFT',date(1981, 3, 28)),\n",
        "                Profile('CE','BL','000-333-444','SW',(Decimal('-7.1557865'), Decimal('142.414900')), 'A+','ert','MR','BS','M','SWQ','dfr',date(1934, 11, 12))\n",
        "                ]\n",
        "\n",
        "\n",
        "# Question1 Test cases\n",
        "\n",
        "\n",
        "def test_q1_number_of_nt_profiles():\n",
        "    assert len(init_profiles_using_namedtuple(100)) == 100 ,'Please create 100 profiles'\n",
        "    \n",
        "def test_q1_average_age_nt():\n",
        "    assert average_age_nt(named_tuples)[1] == 59.2, \"Please check the average age function\"\n",
        "    \n",
        "def test_q1_oldest_person_nt():\n",
        "    assert oldest_person_nt(named_tuples)[1] == 89, \"Please check the average age function\"\n",
        "    \n",
        "def test_q1_average_coords_nt():\n",
        "    assert average_coords_nt(named_tuples)[1] == (Decimal('-5.6701366'), Decimal('2.4545762')), \"Please check the avg coord function\"\n",
        "\n",
        "def test_q1_max_bloodgroup_nt():\n",
        "    assert max_bloodgroup_nt(named_tuples)[1] == 'O+', \"Please check the max blood group function\""
      ],
      "execution_count": 88,
      "outputs": []
    },
    {
      "cell_type": "code",
      "metadata": {
        "id": "X7lgYu-mdkKE"
      },
      "source": [
        "test_q1_number_of_nt_profiles()\n",
        "test_q1_average_age_nt()\n",
        "test_q1_oldest_person_nt()\n",
        "test_q1_average_coords_nt()\n",
        "test_q1_max_bloodgroup_nt()"
      ],
      "execution_count": 91,
      "outputs": []
    },
    {
      "cell_type": "code",
      "metadata": {
        "id": "fjkvvwSudS1-"
      },
      "source": [
        "# Question 2 Test cases\n",
        "\n",
        "fk_Profile_dict = namedtup_dict(named_tuples)\n",
        "\n",
        "def test_q2_type_of_value():\n",
        "    assert type(fk_Profile_dict) == dict ,'Please check the namedtuple to dictionary conversion function'\n",
        "    \n",
        "def test_q2_average_age_dc():\n",
        "    assert average_age_dc(fk_Profile_dict)[1] == 59.2, \"PLease check the average age function\"\n",
        "    \n",
        "def test_q2_oldest_person_dc():\n",
        "    assert oldest_person_dc(fk_Profile_dict)[1] == 89, \"PLease check the average age function\"\n",
        "    \n",
        "def test_q2_average_coords_dc():\n",
        "    assert average_coords_dc(fk_Profile_dict)[1] == (Decimal('-5.6701366'), Decimal('2.4545762')), \"PLease check the avg coord function\"\n",
        "\n",
        "def test_q2_max_bloodgroup_dc():\n",
        "    assert max_bloodgroup_dc(fk_Profile_dict)[1] == 'O+', \"Please check the max blood group function\"\n",
        "    \n",
        "def test_q2_fastest_nt_dc():\n",
        "    fk_Profile_nt = init_profiles_using_namedtuple(10000)\n",
        "    fk_Profile_dict = namedtup_dict(fk_Profile_nt)\n",
        "    assert time_nt(fk_Profile_nt, 100) < time_dc(fk_Profile_dict, 100), 'How can dict be faster than named tuple CHECK!!'"
      ],
      "execution_count": 92,
      "outputs": []
    },
    {
      "cell_type": "code",
      "metadata": {
        "id": "EosBYX4Ke_vX"
      },
      "source": [
        "test_q2_type_of_value()\n",
        "test_q2_average_age_dc()\n",
        "test_q2_oldest_person_dc()\n",
        "test_q2_average_coords_dc()\n",
        "test_q2_max_bloodgroup_dc()\n",
        "test_q2_fastest_nt_dc()"
      ],
      "execution_count": 93,
      "outputs": []
    },
    {
      "cell_type": "code",
      "metadata": {
        "id": "F63ZMBwJdYGS"
      },
      "source": [
        "# Question 3\n",
        "N = 100\n",
        "stVals = stock_market(N)\n",
        "\n",
        "def test_q3_no_profiles_generated():\n",
        "    assert len(stock_market(100)[0]) == 100, 'Not enough profiles'\n",
        "\n",
        "def test_q3_doc_string():\n",
        "    assert stock_market.__doc__ != None, 'Please provide a doc string'\n",
        "\n",
        "def test_q3_annotations():\n",
        "    assert stock_market.__annotations__ != None, 'Please provide appropriate annotations'\n",
        "\n",
        "def test_q3_unique_symbol():\n",
        "    symbols = len(set([x.symbol for x in stVals[0]]))\n",
        "    assert symbols == N, 'Duplicate Symbols found'\n",
        "    \n",
        "def test_q3_return_namedt():\n",
        "    assert type(stVals[0][0]) != tuple, 'Check the function'\n",
        "    \n",
        "def test_q3_normalized_wts():\n",
        "    wts_sum = sum([x.company_weight for x in stVals[0]])\n",
        "    assert wts_sum >= 0.9, 'Normalize the weights'\n",
        "    \n",
        "def test_q3_highd_lowd():\n",
        "    assert stVals[2] >= stVals[3], 'How can highest be less than lowest'\n",
        "    \n",
        "def test_q3_all_high_low():\n",
        "    high = [x.high for x in stVals[0]]\n",
        "    open_  = [x.open for x in stVals[0]]\n",
        "    Diff = [(high[i] - open_[i]) for i in range(len(high))]\n",
        "    for x in Diff:\n",
        "        assert x >= 0, 'Check the Program'\n",
        "\n",
        "def test_q3_docstring_namedtuple():\n",
        "    assert stVals[0][1].__doc__ != None, 'No docstring for the tuple'\n",
        "    \n",
        "def test_q3_docstring_symbol():\n",
        "    assert symbol.__doc__ != None, 'Doc string missing'\n",
        "\n",
        "def test_q3_string_annotations():\n",
        "    assert symbol.__annotations__ != None, 'Provide annotattions'"
      ],
      "execution_count": null,
      "outputs": []
    },
    {
      "cell_type": "code",
      "metadata": {
        "id": "hov4yemegHSG"
      },
      "source": [
        "test_q3_no_profiles_generated()\n",
        "test_q3_doc_string()\n",
        "test_q3_annotations()\n",
        "test_q3_unique_symbol()\n",
        "test_q3_return_namedt()\n",
        "test_q3_normalized_wts()\n",
        "test_q3_highd_lowd()\n",
        "test_q3_all_high_low()\n",
        "test_q3_docstring_namedtuple()\n",
        "test_q3_docstring_symbol()\n",
        "test_q3_string_annotations()"
      ],
      "execution_count": 94,
      "outputs": []
    },
    {
      "cell_type": "code",
      "metadata": {
        "id": "wbk86XlRfeMw"
      },
      "source": [
        ""
      ],
      "execution_count": null,
      "outputs": []
    }
  ]
}