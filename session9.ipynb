{
  "nbformat": 4,
  "nbformat_minor": 0,
  "metadata": {
    "colab": {
      "name": "Untitled76.ipynb",
      "provenance": [],
      "collapsed_sections": [],
      "authorship_tag": "ABX9TyOuIEMRmrNGoKOwIRXt8FX9",
      "include_colab_link": true
    },
    "kernelspec": {
      "name": "python3",
      "display_name": "Python 3"
    },
    "language_info": {
      "name": "python"
    }
  },
  "cells": [
    {
      "cell_type": "markdown",
      "metadata": {
        "id": "view-in-github",
        "colab_type": "text"
      },
      "source": [
        "<a href=\"https://colab.research.google.com/github/gopal2812/EPAIAssignment9/blob/main/session9.ipynb\" target=\"_parent\"><img src=\"https://colab.research.google.com/assets/colab-badge.svg\" alt=\"Open In Colab\"/></a>"
      ]
    },
    {
      "cell_type": "code",
      "metadata": {
        "colab": {
          "base_uri": "https://localhost:8080/"
        },
        "id": "1kAraNAdFiUz",
        "outputId": "144874fc-1e90-4ee4-de57-c896baa3d9e7"
      },
      "source": [
        "#install faker and import the faker library\n",
        "!pip install faker\n",
        "from faker import Faker\n"
      ],
      "execution_count": 1,
      "outputs": [
        {
          "output_type": "stream",
          "text": [
            "Collecting faker\n",
            "\u001b[?25l  Downloading https://files.pythonhosted.org/packages/e4/be/d03e305f1d879f541c23d586023ec11b124d6cc3d75a95159470754134d9/Faker-8.10.0-py3-none-any.whl (1.2MB)\n",
            "\u001b[K     |████████████████████████████████| 1.2MB 4.1MB/s \n",
            "\u001b[?25hRequirement already satisfied: python-dateutil>=2.4 in /usr/local/lib/python3.7/dist-packages (from faker) (2.8.1)\n",
            "Requirement already satisfied: text-unidecode==1.3 in /usr/local/lib/python3.7/dist-packages (from faker) (1.3)\n",
            "Requirement already satisfied: six>=1.5 in /usr/local/lib/python3.7/dist-packages (from python-dateutil>=2.4->faker) (1.15.0)\n",
            "Installing collected packages: faker\n",
            "Successfully installed faker-8.10.0\n"
          ],
          "name": "stdout"
        }
      ]
    },
    {
      "cell_type": "code",
      "metadata": {
        "id": "KWIahwQnFuEd"
      },
      "source": [
        "#Create a  Faker object\n",
        "faker = Faker()"
      ],
      "execution_count": 2,
      "outputs": []
    },
    {
      "cell_type": "code",
      "metadata": {
        "colab": {
          "base_uri": "https://localhost:8080/"
        },
        "id": "PjAO35kZGezf",
        "outputId": "833ad1dc-6dfd-473f-b5f8-2c209e25f37f"
      },
      "source": [
        "# Generate a fake profile\n",
        "faker.profile()"
      ],
      "execution_count": 3,
      "outputs": [
        {
          "output_type": "execute_result",
          "data": {
            "text/plain": [
              "{'address': 'USNS Hurley\\nFPO AA 05031',\n",
              " 'birthdate': datetime.date(2003, 10, 11),\n",
              " 'blood_group': 'AB+',\n",
              " 'company': 'Conrad, Lin and Wilkins',\n",
              " 'current_location': (Decimal('7.6146345'), Decimal('96.269671')),\n",
              " 'job': 'Chartered loss adjuster',\n",
              " 'mail': 'amanda07@gmail.com',\n",
              " 'name': 'Jesse Warner',\n",
              " 'residence': '842 Eddie Viaduct Apt. 666\\nEast Jessica, SD 36623',\n",
              " 'sex': 'M',\n",
              " 'ssn': '832-43-1161',\n",
              " 'username': 'fhicks',\n",
              " 'website': ['https://ellis.biz/',\n",
              "  'http://www.miller-frank.com/',\n",
              "  'https://www.salazar.net/',\n",
              "  'http://hickman.com/']}"
            ]
          },
          "metadata": {
            "tags": []
          },
          "execution_count": 3
        }
      ]
    },
    {
      "cell_type": "code",
      "metadata": {
        "colab": {
          "base_uri": "https://localhost:8080/"
        },
        "id": "aufPYmBHHc0e",
        "outputId": "10c39987-4e08-4b74-bbe1-2e682a81909e"
      },
      "source": [
        "from collections import namedtuple\n",
        "#Creating a named tuple with the keys in the fake profile as fields\n",
        "Profile = namedtuple('Profile', faker.profile().keys())\n",
        "#Creating a named tuple with the values in the fake profile\n",
        "profile_values = Profile(*faker.profile().values())\n",
        "profile_values"
      ],
      "execution_count": 4,
      "outputs": [
        {
          "output_type": "execute_result",
          "data": {
            "text/plain": [
              "Profile(job='Accountant, chartered public finance', company='Williams-Smith', ssn='085-58-3562', residence='425 Robinson Forest Suite 318\\nBrianshire, MI 82523', current_location=(Decimal('10.545151'), Decimal('-59.785186')), blood_group='A-', website=['https://www.hernandez.com/'], username='smithpaul', name='Jean King', sex='F', address='3027 Vasquez Turnpike Suite 964\\nDaltonhaven, MN 45922', mail='jillwalker@gmail.com', birthdate=datetime.date(1921, 4, 23))"
            ]
          },
          "metadata": {
            "tags": []
          },
          "execution_count": 4
        }
      ]
    },
    {
      "cell_type": "code",
      "metadata": {
        "colab": {
          "base_uri": "https://localhost:8080/"
        },
        "id": "-wAYtzIkKKpI",
        "outputId": "d592ca33-e9c1-4cc3-ca41-6f5358cb6ee8"
      },
      "source": [
        "from time import perf_counter\n",
        "from functools import wraps\n",
        "\n",
        "# A Decorator Wrapper calculating the execution time\n",
        "def calc_time(fn):\n",
        "    '''\n",
        "    Decorator to determine execution time of decorated fn.\n",
        "    '''\n",
        "    @wraps(fn)\n",
        "    def inner(*args, **kwargs) -> \"Function Output\":\n",
        "        \"\"\"\n",
        "        Inner function to calculate the time.\n",
        "        \"\"\"\n",
        "        start = perf_counter()\n",
        "        result = fn(*args, **kwargs)\n",
        "        exec_time = (perf_counter() - start)\n",
        "        return exec_time, result\n",
        "    return inner\n",
        "  \n",
        "@calc_time\n",
        "def sum1():\n",
        "  sum = 0\n",
        "  for i in range(1, 10):\n",
        "    sum = sum + i\n",
        "  return sum\n",
        "\n",
        "sum1_10 = sum1()\n",
        "print(sum1_10)"
      ],
      "execution_count": 5,
      "outputs": [
        {
          "output_type": "stream",
          "text": [
            "(2.3879999844211852e-06, 45)\n"
          ],
          "name": "stdout"
        }
      ]
    },
    {
      "cell_type": "markdown",
      "metadata": {
        "id": "mmpey-ZSJz_r"
      },
      "source": [
        "Q1.Use the Faker (Links to an external site.)library to get 10000 random profiles. Using namedtuple, calculate the largest blood type, mean-current_location, oldest_person_age, and average age (add proper doc-strings)."
      ]
    },
    {
      "cell_type": "code",
      "metadata": {
        "id": "LIHVlpRHHFsm"
      },
      "source": [
        "def init_profiles_using_namedtuple(number: int):\n",
        "    \"\"\"\n",
        "      Creating fake profiles for given number of people using namedtuples\n",
        "    \"\"\"\n",
        "    profiles = []\n",
        "    Profile = namedtuple('Profile', faker.profile().keys())\n",
        "    for _ in range(number):\n",
        "        profiles.append(Profile(*faker.profile().values()))\n",
        "    return profiles"
      ],
      "execution_count": 9,
      "outputs": []
    },
    {
      "cell_type": "code",
      "metadata": {
        "colab": {
          "base_uri": "https://localhost:8080/"
        },
        "id": "ETw_rfDxN5Jd",
        "outputId": "24214506-346f-4a96-b595-b8cb2df29201"
      },
      "source": [
        "# Testing Profile Generation Function using Namedtuples\n",
        "init_profiles_using_namedtuple(2)"
      ],
      "execution_count": 10,
      "outputs": [
        {
          "output_type": "execute_result",
          "data": {
            "text/plain": [
              "[Profile(job='Office manager', company='Bennett-Collins', ssn='639-82-9126', residence='109 Alexandra Crossroad\\nAustinmouth, VA 84584', current_location=(Decimal('-68.705298'), Decimal('-147.490337')), blood_group='B+', website=['http://prince.com/', 'http://www.mcguire.com/', 'http://www.ray.biz/', 'https://rodriguez.com/'], username='smithleah', name='Randy Roberts', sex='M', address='475 Joseph Brooks\\nKristiton, MN 67705', mail='cindy06@gmail.com', birthdate=datetime.date(2004, 8, 18)),\n",
              " Profile(job='Aid worker', company='Henson Inc', ssn='014-05-6923', residence='06438 Gary Forest Apt. 586\\nTateburgh, KS 56320', current_location=(Decimal('42.0154505'), Decimal('-164.392081')), blood_group='AB-', website=['https://baker.com/', 'https://www.gomez-hernandez.biz/', 'https://www.finley.net/'], username='zbradshaw', name='Victoria Henderson', sex='F', address='533 Andrea Land\\nNorth Dawnchester, IL 58456', mail='diazsydney@yahoo.com', birthdate=datetime.date(1930, 4, 24))]"
            ]
          },
          "metadata": {
            "tags": []
          },
          "execution_count": 10
        }
      ]
    },
    {
      "cell_type": "code",
      "metadata": {
        "id": "zQWtR-4bOEIR"
      },
      "source": [
        "import datetime\n",
        "@calc_time\n",
        "def oldest_person_in_namedtuple(all_profile_in_namedtuple: namedtuple) -> float:\n",
        "    \"\"\"\n",
        "    This function finds the oldest person from the slot, calculates the duration. The minimum birthdate and\n",
        "    time is returned.\n",
        "    # Param:\n",
        "        all_profile_nt: Named tuple containing all  profiles\n",
        "    \"\"\"\n",
        "    value = min(all_profile_in_namedtuple, key=lambda v: v[-1])\n",
        "    date_today = datetime.date.today()\n",
        "    age = (date_today - value.birthdate).days\n",
        "    return int(age / 365)"
      ],
      "execution_count": 11,
      "outputs": []
    },
    {
      "cell_type": "code",
      "metadata": {
        "id": "SMSN0AT2OZSa"
      },
      "source": [
        "from datetime import date\n",
        "@calc_time\n",
        "def average_age_in_namedtuple(all_profile_in_namedtuple: namedtuple) -> tuple:\n",
        "    \"\"\"\n",
        "    This function finds the average age of the person from the slot, calculates the duration to perform that operation.\n",
        "    The average age and time is returned.\n",
        "    # Param:\n",
        "        all_profile_nt: Named tuple containing all  profiles\n",
        "    \"\"\"\n",
        "    today = date.today()\n",
        "    value = sum(map(lambda v: today.year - v[-1].year - ((today.month, today.day) < (v[-1].month, v[-1].day)),\n",
        "                    all_profile_in_namedtuple)) / len(all_profile_in_namedtuple)\n",
        "    return value"
      ],
      "execution_count": 22,
      "outputs": []
    },
    {
      "cell_type": "code",
      "metadata": {
        "id": "7genRHdqPEu5"
      },
      "source": [
        "from statistics import mode\n",
        "@calc_time\n",
        "def max_bloodgroup_in_namedtuple(all_profile_in_namedtuple: namedtuple) -> tuple:\n",
        "    \"\"\"\n",
        "    This function uses the mode function defined in statisics library to find the most occured blood group from the list\n",
        "    The list is generated using the lambda function and returned to the mode function as a parameters.\n",
        "    The code is then timed and the result and time is sent back.\n",
        "    # Param:\n",
        "        all_profile_nt: Named tuple containing all  profiles\n",
        "    \"\"\"\n",
        "    blood_group = mode(list(map(lambda v: v[5], all_profile_in_namedtuple)))\n",
        "    return blood_group"
      ],
      "execution_count": 12,
      "outputs": []
    },
    {
      "cell_type": "code",
      "metadata": {
        "id": "GDAM0ZdFQo8j"
      },
      "source": [
        "@calc_time\n",
        "def average_coords_in_namedtuple(all_profile_in_namedtuple: namedtuple) -> tuple:\n",
        "    \"\"\"\n",
        "    This function finds the average coordinates  from the slot, calculates the duration to perform that operation.\n",
        "    The average coordinates and time is returned.\n",
        "    # Param:\n",
        "        all_profile_nt: Named tuple containing all  profiles\n",
        "    \"\"\"\n",
        "    x, y = sum(map(lambda t: t[0], map(lambda v: v[4], all_profile_in_namedtuple))) / len(\n",
        "        all_profile_in_namedtuple), sum(map(lambda t: t[1], map(lambda v: v[4], all_profile_in_namedtuple))) / len(\n",
        "        all_profile_in_namedtuple)\n",
        "    return x, y"
      ],
      "execution_count": 13,
      "outputs": []
    },
    {
      "cell_type": "code",
      "metadata": {
        "colab": {
          "base_uri": "https://localhost:8080/"
        },
        "id": "EsD49fT-PM7s",
        "outputId": "b8fd474c-9e54-42a1-dd6c-19ccdc8edce0"
      },
      "source": [
        "NUM_PROFILES = 10000\n",
        "fk_Profile_nt = init_profiles_using_namedtuple(NUM_PROFILES)\n",
        "len(fk_Profile_nt)"
      ],
      "execution_count": 14,
      "outputs": [
        {
          "output_type": "execute_result",
          "data": {
            "text/plain": [
              "10000"
            ]
          },
          "metadata": {
            "tags": []
          },
          "execution_count": 14
        }
      ]
    },
    {
      "cell_type": "code",
      "metadata": {
        "colab": {
          "base_uri": "https://localhost:8080/"
        },
        "id": "tEFglCdmPWZ3",
        "outputId": "79bb50a3-070b-43ed-c072-9de70a769bf2"
      },
      "source": [
        "oldest_person_in_namedtuple(fk_Profile_nt)"
      ],
      "execution_count": 16,
      "outputs": [
        {
          "output_type": "execute_result",
          "data": {
            "text/plain": [
              "(0.0017662960000279782, 116)"
            ]
          },
          "metadata": {
            "tags": []
          },
          "execution_count": 16
        }
      ]
    },
    {
      "cell_type": "code",
      "metadata": {
        "colab": {
          "base_uri": "https://localhost:8080/"
        },
        "id": "XKpFt4PuPZA4",
        "outputId": "32500812-0e8a-4ded-f36c-67e80758f00e"
      },
      "source": [
        "average_age_in_namedtuple(fk_Profile_nt)"
      ],
      "execution_count": 23,
      "outputs": [
        {
          "output_type": "execute_result",
          "data": {
            "text/plain": [
              "(0.012171001999945474, 57.8114)"
            ]
          },
          "metadata": {
            "tags": []
          },
          "execution_count": 23
        }
      ]
    },
    {
      "cell_type": "code",
      "metadata": {
        "colab": {
          "base_uri": "https://localhost:8080/"
        },
        "id": "wCtwQ4lxQc4t",
        "outputId": "9e6bf2a5-6623-43ee-a375-2de9e0e76b99"
      },
      "source": [
        "average_coords_in_namedtuple(fk_Profile_nt)"
      ],
      "execution_count": 25,
      "outputs": [
        {
          "output_type": "execute_result",
          "data": {
            "text/plain": [
              "(0.00915503200008061, (Decimal('-0.44833531065'), Decimal('0.3671058454')))"
            ]
          },
          "metadata": {
            "tags": []
          },
          "execution_count": 25
        }
      ]
    },
    {
      "cell_type": "code",
      "metadata": {
        "colab": {
          "base_uri": "https://localhost:8080/"
        },
        "id": "J6dRQBzYQs42",
        "outputId": "7a48857c-14c3-4cf6-913c-6d8566e0f973"
      },
      "source": [
        "max_bloodgroup_in_namedtuple(fk_Profile_nt)"
      ],
      "execution_count": 24,
      "outputs": [
        {
          "output_type": "execute_result",
          "data": {
            "text/plain": [
              "(0.004793011999936425, 'A+')"
            ]
          },
          "metadata": {
            "tags": []
          },
          "execution_count": 24
        }
      ]
    },
    {
      "cell_type": "code",
      "metadata": {
        "id": "3hNVtajPO0QS"
      },
      "source": [
        "def time_for_named_tuple(fk_profile_in_namedtuple: namedtuple, n: int) -> 'float':\n",
        "    ti = 0\n",
        "    for _ in range(n):\n",
        "        total_exec_time_nt = oldest_person_in_namedtuple(fk_profile_in_namedtuple)[0] + \\\n",
        "                             average_age_in_namedtuple(fk_profile_in_namedtuple)[0] + \\\n",
        "                             average_coords_in_namedtuple(fk_profile_in_namedtuple)[0] + \\\n",
        "                             max_bloodgroup_in_namedtuple(fk_profile_in_namedtuple)[0]\n",
        "        ti += total_exec_time_nt\n",
        "    return ti / n"
      ],
      "execution_count": 27,
      "outputs": []
    },
    {
      "cell_type": "code",
      "metadata": {
        "colab": {
          "base_uri": "https://localhost:8080/"
        },
        "id": "UJPG4DZojo55",
        "outputId": "8cb2abd8-e629-4db1-afa9-b69130f76486"
      },
      "source": [
        "time_for_named_tuple(fk_Profile_nt, NUM_PROFILES)"
      ],
      "execution_count": 28,
      "outputs": [
        {
          "output_type": "execute_result",
          "data": {
            "text/plain": [
              "0.017898876880600916"
            ]
          },
          "metadata": {
            "tags": []
          },
          "execution_count": 28
        }
      ]
    },
    {
      "cell_type": "markdown",
      "metadata": {
        "id": "uBXbVVl1SKVY"
      },
      "source": [
        "##Question 2\n",
        "Do the same thing above using a dictionary. Prove that namedtuple is faster."
      ]
    },
    {
      "cell_type": "code",
      "metadata": {
        "id": "015IICNBkTZ-"
      },
      "source": [
        "def namedtupletodict(all_profile_in_namedtuple: namedtuple) -> dict:\n",
        "    return {'Profile' + str(i): t._asdict() for i, t in enumerate(all_profile_in_namedtuple)}\n",
        "\n",
        "\n",
        "@calc_time\n",
        "def oldest_person_dict(all_profile_dict: dict) -> float:\n",
        "    \"\"\"\n",
        "    This function finds the oldest person from the slot, calculates the duration. The minimum birthdate and\n",
        "    time is returned.\n",
        "    # Param:\n",
        "        all_profile_dc: dictionary containing all  profiles\n",
        "    \"\"\"\n",
        "    value = min(all_profile_dict.values(), key=lambda v: v['birthdate'])\n",
        "    date_today = datetime.date.today()\n",
        "    age = (date_today - value['birthdate']).days\n",
        "    return int(age / 365)\n",
        "\n",
        "\n",
        "@calc_time\n",
        "def average_coords_dict(all_profile_dict: dict) -> tuple:\n",
        "    \"\"\"\n",
        "    This function finds the average coordinates  from the slot, calculates the duration to perform that operation.\n",
        "    The average coordinates and time is returned.\n",
        "    # Param:\n",
        "        all_profile_dc: dictionary containing all profiles\n",
        "    \"\"\"\n",
        "    x, y = sum(map(lambda t: t[0], map(lambda v: v['current_location'], all_profile_dict.values()))) / len(\n",
        "        all_profile_dict.values()), sum(\n",
        "        map(lambda t: t[1], map(lambda v: v['current_location'], all_profile_dict.values()))) / len(\n",
        "        all_profile_dict.values())\n",
        "    return x, y\n",
        "\n",
        "\n",
        "@calc_time\n",
        "def max_bloodgroup_dict(all_profile_dict: dict) -> tuple:\n",
        "    \"\"\"\n",
        "    This function uses the mode function defined in statisics library to find the most occured blood group from the\n",
        "    list. The list is generated using the lambda function and returned to the mode function as a parameters. The code is\n",
        "    then timed and the result and time is sent back.\n",
        "    # Param:\n",
        "        all_profile_dc: dictionary containing all profiles\n",
        "    \"\"\"\n",
        "    value = mode(list(map(lambda v: v['blood_group'], all_profile_dict.values())))\n",
        "    return value\n",
        "\n",
        "\n",
        "@calc_time\n",
        "def average_age_dict(all_profile_dict: dict) -> float:\n",
        "    \"\"\"\n",
        "    This function finds the average age of the person from the slot, calculates the duration to perform that operation.\n",
        "    The average age and time is returned.\n",
        "    # Param:\n",
        "        all_profile_dc: Dictionary containing all  profiles\n",
        "    \"\"\"\n",
        "    today = date.today()\n",
        "    value = sum(map(lambda v: today.year - v['birthdate'].year - (\n",
        "            (today.month, today.day) < (v['birthdate'].month, v['birthdate'].day)),\n",
        "                    all_profile_dict.values())) / len(all_profile_dict)\n",
        "    return value\n",
        "\n",
        "\n",
        "def time_for_dict(fk_profile_dict: dict, n: int) -> 'float':\n",
        "    ti = 0\n",
        "    for _ in range(n):\n",
        "        total_exec_time_dict = oldest_person_dict(fk_profile_dict)[0] + average_age_dict(fk_profile_dict)[0] + \\\n",
        "                             average_coords_dict(fk_profile_dict)[0] + max_bloodgroup_dict(fk_profile_dict)[0]\n",
        "        ti += total_exec_time_dict\n",
        "    return ti / n"
      ],
      "execution_count": 29,
      "outputs": []
    },
    {
      "cell_type": "code",
      "metadata": {
        "id": "XJ10J_mVkcb6"
      },
      "source": [
        "# Converting the Data generated above as list of Dictionary\n",
        "fk_Profile_dict = namedtupletodict(fk_Profile_nt)"
      ],
      "execution_count": 30,
      "outputs": []
    },
    {
      "cell_type": "code",
      "metadata": {
        "colab": {
          "base_uri": "https://localhost:8080/"
        },
        "id": "WVFcWS2lSEMj",
        "outputId": "2d377d3e-5ab1-4dda-89de-0cf9c7c0acca"
      },
      "source": [
        "fk_Profile_dict['Profile1']"
      ],
      "execution_count": 31,
      "outputs": [
        {
          "output_type": "execute_result",
          "data": {
            "text/plain": [
              "OrderedDict([('job', 'Warehouse manager'),\n",
              "             ('company', 'Aguilar Ltd'),\n",
              "             ('ssn', '110-13-5591'),\n",
              "             ('residence', '2234 Rivera Glen Apt. 650\\nJohnsonfurt, UT 94533'),\n",
              "             ('current_location',\n",
              "              (Decimal('76.3304295'), Decimal('101.082775'))),\n",
              "             ('blood_group', 'B+'),\n",
              "             ('website',\n",
              "              ['http://www.anderson-ortega.net/',\n",
              "               'https://jimenez-stewart.com/',\n",
              "               'http://www.hernandez-combs.com/',\n",
              "               'https://jackson.com/']),\n",
              "             ('username', 'wking'),\n",
              "             ('name', 'Jamie Torres'),\n",
              "             ('sex', 'F'),\n",
              "             ('address', '372 Jacob Station\\nNorth Jessicabury, VT 22199'),\n",
              "             ('mail', 'sjordan@yahoo.com'),\n",
              "             ('birthdate', datetime.date(2020, 4, 18))])"
            ]
          },
          "metadata": {
            "tags": []
          },
          "execution_count": 31
        }
      ]
    },
    {
      "cell_type": "code",
      "metadata": {
        "colab": {
          "base_uri": "https://localhost:8080/"
        },
        "id": "rUPCuyJiYxjh",
        "outputId": "7b3e44d2-b8a1-408d-a561-bee9354c81ac"
      },
      "source": [
        "oldest_person_dict(fk_Profile_dict)"
      ],
      "execution_count": 32,
      "outputs": [
        {
          "output_type": "execute_result",
          "data": {
            "text/plain": [
              "(0.005026229000122839, 116)"
            ]
          },
          "metadata": {
            "tags": []
          },
          "execution_count": 32
        }
      ]
    },
    {
      "cell_type": "code",
      "metadata": {
        "colab": {
          "base_uri": "https://localhost:8080/"
        },
        "id": "ArvY_Hq_Y2No",
        "outputId": "07aea0c3-e462-4fc5-b6fa-a58b0306b7c8"
      },
      "source": [
        "average_age_dict(fk_Profile_dict)"
      ],
      "execution_count": 33,
      "outputs": [
        {
          "output_type": "execute_result",
          "data": {
            "text/plain": [
              "(0.01065107500016893, 57.8114)"
            ]
          },
          "metadata": {
            "tags": []
          },
          "execution_count": 33
        }
      ]
    },
    {
      "cell_type": "code",
      "metadata": {
        "colab": {
          "base_uri": "https://localhost:8080/"
        },
        "id": "Ptuq8duhY5lt",
        "outputId": "5531969b-ba27-413e-819e-a8c38cd0133f"
      },
      "source": [
        "average_coords_dict(fk_Profile_dict)"
      ],
      "execution_count": 34,
      "outputs": [
        {
          "output_type": "execute_result",
          "data": {
            "text/plain": [
              "(0.01167898099993181, (Decimal('-0.44833531065'), Decimal('0.3671058454')))"
            ]
          },
          "metadata": {
            "tags": []
          },
          "execution_count": 34
        }
      ]
    },
    {
      "cell_type": "code",
      "metadata": {
        "colab": {
          "base_uri": "https://localhost:8080/"
        },
        "id": "HIDEGSBdZBFv",
        "outputId": "5efcac7f-f35b-4839-a8f7-d6ed4aabec5e"
      },
      "source": [
        "max_bloodgroup_dict(fk_Profile_dict)"
      ],
      "execution_count": 35,
      "outputs": [
        {
          "output_type": "execute_result",
          "data": {
            "text/plain": [
              "(0.003944539000031, 'A+')"
            ]
          },
          "metadata": {
            "tags": []
          },
          "execution_count": 35
        }
      ]
    },
    {
      "cell_type": "code",
      "metadata": {
        "colab": {
          "base_uri": "https://localhost:8080/"
        },
        "id": "1u6vg0UPlHyP",
        "outputId": "ec70276e-3b51-46b7-dfa1-7dd92b4a8c8e"
      },
      "source": [
        "time_for_dict(fk_Profile_dict, NUM_PROFILES)"
      ],
      "execution_count": 37,
      "outputs": [
        {
          "output_type": "execute_result",
          "data": {
            "text/plain": [
              "0.023435866645599115"
            ]
          },
          "metadata": {
            "tags": []
          },
          "execution_count": 37
        }
      ]
    },
    {
      "cell_type": "markdown",
      "metadata": {
        "id": "5x69wF99Z9Vk"
      },
      "source": [
        "##Question3\n",
        "Create fake data (you can use Faker for company names) for imaginary stock exchange for top 100 companies (name, symbol, open, high, close). Assign a random weight to all the companies. Calculate and show what value the stock market started at, what was the highest value during the day, and where did it end. Make sure your open, high, close are not totally random. You can only use namedtuple."
      ]
    },
    {
      "cell_type": "code",
      "metadata": {
        "id": "8BJe9HbCaI2N"
      },
      "source": [
        "# Returns a Symbol for the Company\n",
        "def symbol(string):\n",
        "    \"\"\"Returns joined string if characters are upper case\"\"\"\n",
        "    L = len(string)\n",
        "    P1 = random.randint(1,L-1,2)\n",
        "    chars = []\n",
        "    for char in string:\n",
        "        chars.append(char)\n",
        "    chars[P1[0]] = chars[P1[0]].upper()\n",
        "    chars[P1[1]] = chars[P1[1]].upper()\n",
        "    \n",
        "    return ''.join(x for x in chars if x.isupper())"
      ],
      "execution_count": 40,
      "outputs": []
    },
    {
      "cell_type": "code",
      "metadata": {
        "id": "X4TUq2wGaONY"
      },
      "source": [
        "from numpy import random\n",
        "def stock_market(n=100):\n",
        "    \"\"\"\n",
        "    To create a faker stock data set for imaginary stock exchange for top 100 companies (name, symbol, open, high, close\n",
        "    ).Tasks_ToDo: Assign a random weight to all the companies. Calculate and show what value stock market started at\n",
        "    .what was the highest value during the day and where did it end.\n",
        "    \"\"\"\n",
        "    all_companies = []\n",
        "    Stocks = namedtuple(\"Stocks\", 'name symbol open high close company_weight')\n",
        "    mkvalue = random.uniform(1000, 50000, 100)\n",
        "    wts_ = random.uniform(0, 1, 100)\n",
        "    wts_ = wts_ / sum(wts_)\n",
        "\n",
        "    for _ in range(n):\n",
        "        name = faker.company()\n",
        "        open_ = round(mkvalue[_], 2) * wts_[_]\n",
        "        close = round(open_ * random.uniform(0.7, 1.15), 2)\n",
        "        high = round(open_ * random.uniform(0.90, 1.15), 2)\n",
        "        if high < open_:\n",
        "            high = open_\n",
        "        if high < close:\n",
        "            high = close\n",
        "\n",
        "        all_companies.append(\n",
        "            Stocks(name=name, symbol=symbol(name), open=open_, high=round(high, 2), close=round(close, 2),\n",
        "                   company_weight=round(wts_[_], 4)))\n",
        "\n",
        "    stock_index = round(sum(x.open * x.company_weight for x in all_companies), 4)\n",
        "    highest_for_day = round(sum(x.high * x.company_weight for x in all_companies), 2)\n",
        "    lowest_close_for_day = round(sum(x.close * x.company_weight for x in all_companies), 2)\n",
        "    return sorted(all_companies, key=lambda x: x.symbol), stock_index, highest_for_day, lowest_close_for_day"
      ],
      "execution_count": 59,
      "outputs": []
    },
    {
      "cell_type": "code",
      "metadata": {
        "colab": {
          "base_uri": "https://localhost:8080/"
        },
        "id": "f5XxZ_6FZzHx",
        "outputId": "61443f15-ddae-4833-f77a-ba01ef9a449c"
      },
      "source": [
        "stock_market()"
      ],
      "execution_count": 60,
      "outputs": [
        {
          "output_type": "execute_result",
          "data": {
            "text/plain": [
              "([Stocks(name='Allen, Jackson and Thompson', symbol='AJCTO', open=54.24291867916545, high=56.33, close=39.97, company_weight=0.0026),\n",
              "  Stocks(name='Allison Group', symbol='ASNG', open=23.477198945103503, high=25.23, close=24.69, company_weight=0.0019),\n",
              "  Stocks(name='Aguilar-Harris', symbol='AUHA', open=231.85406463814337, high=250.49, close=174.85, company_weight=0.0056),\n",
              "  Stocks(name='Brown, Carr and Lara', symbol='BCRL', open=8.094318051330417, high=8.73, close=7.88, company_weight=0.0041),\n",
              "  Stocks(name='Boone, Rodriguez and Bishop', symbol='BEREB', open=285.19563084296897, high=323.49, close=323.49, company_weight=0.0062),\n",
              "  Stocks(name='Bradford-Kim', symbol='BFKI', open=246.76692408300872, high=260.26, close=175.4, company_weight=0.0163),\n",
              "  Stocks(name='Bowers, Goodwin and Harrison', symbol='BGNHR', open=118.05221735429342, high=118.05, close=105.39, company_weight=0.0035),\n",
              "  Stocks(name='Bolton Group', symbol='BGRO', open=165.10724160692536, high=174.54, close=174.54, company_weight=0.0034),\n",
              "  Stocks(name='Bailey PLC', symbol='BPLC', open=314.72064014963087, high=314.72, close=293.62, company_weight=0.0108),\n",
              "  Stocks(name='Barker, Ross and Lee', symbol='BROL', open=163.1089089624525, high=171.42, close=170.88, company_weight=0.005),\n",
              "  Stocks(name='Baker, Williams and Ayers', symbol='BRWIA', open=176.3311270420808, high=185.23, close=185.23, company_weight=0.004),\n",
              "  Stocks(name='Barry and Sons', symbol='BS', open=446.9019930610008, high=446.9, close=362.06, company_weight=0.0092),\n",
              "  Stocks(name='Best, Perez and Thomas', symbol='BSPT', open=436.6736065558269, high=459.25, close=412.29, company_weight=0.0157),\n",
              "  Stocks(name='Bruce-Thompson', symbol='BTM', open=585.6559141950548, high=606.16, close=414.08, company_weight=0.0185),\n",
              "  Stocks(name='Barnes, Wright and Morales', symbol='BWGTM', open=337.01046642377503, high=337.01, close=297.32, company_weight=0.0093),\n",
              "  Stocks(name='Clarke, Clark and Wilson', symbol='CCWI', open=207.62295435756417, high=225.66, close=184.92, company_weight=0.0052),\n",
              "  Stocks(name='Conley-Johnson', symbol='CLJ', open=381.85041789273527, high=432.8, close=358.11, company_weight=0.0086),\n",
              "  Stocks(name='Cunningham and Sons', symbol='CNHS', open=15.3463555164014, high=16.01, close=16.01, company_weight=0.0009),\n",
              "  Stocks(name='Duarte and Sons', symbol='DAS', open=630.3795627968714, high=689.33, close=689.33, company_weight=0.0175),\n",
              "  Stocks(name='Davis LLC', symbol='DSLLC', open=51.3161506436341, high=51.32, close=46.21, company_weight=0.0024),\n",
              "  Stocks(name='Dunn Inc', symbol='DUI', open=38.78186783023962, high=38.78, close=29.61, company_weight=0.0068),\n",
              "  Stocks(name='Edwards and Sons', symbol='EADS', open=761.6811213409873, high=855.31, close=855.31, company_weight=0.0209),\n",
              "  Stocks(name='English, Hartman and Cain', symbol='EHHC', open=147.45170065178573, high=148.87, close=106.1, company_weight=0.0035),\n",
              "  Stocks(name='Flores, Montoya and Thornton', symbol='FMT', open=147.87963108839037, high=164.01, close=162.11, company_weight=0.0113),\n",
              "  Stocks(name='Frost-Ryan', symbol='FOTR', open=847.0787960265949, high=847.08, close=831.51, company_weight=0.02),\n",
              "  Stocks(name='Garner PLC', symbol='GAEPLC', open=536.8142367253577, high=611.36, close=559.06, company_weight=0.0109),\n",
              "  Stocks(name='Gibbs-Beltran', symbol='GBR', open=461.8638197341002, high=517.52, close=505.87, company_weight=0.0102),\n",
              "  Stocks(name='Garcia, Hebert and Vang', symbol='GHAV', open=71.89039654049245, high=79.32, close=79.32, company_weight=0.0046),\n",
              "  Stocks(name='Gonzalez, Patel and Martin', symbol='GPLMT', open=474.7364735297361, high=474.74, close=367.72, company_weight=0.0146),\n",
              "  Stocks(name='Guerrero, West and Lewis', symbol='GRWL', open=456.45210490290174, high=467.94, close=322.5, company_weight=0.0177),\n",
              "  Stocks(name='Griffin-Williams', symbol='GWA', open=203.86607027121366, high=228.85, close=201.66, company_weight=0.0049),\n",
              "  Stocks(name='Hernandez, Griffin and Reid', symbol='HGNAR', open=186.59385437769032, high=202.83, close=172.51, company_weight=0.0199),\n",
              "  Stocks(name='Howe, Holmes and Osborne', symbol='HHENO', open=1.2543680900018044, high=1.25, close=1.07, company_weight=0.0004),\n",
              "  Stocks(name='Hughes-Hines', symbol='HHI', open=49.44271856831614, high=51.64, close=50.67, company_weight=0.0017),\n",
              "  Stocks(name='Hamilton, Martinez and Reid', symbol='HMRR', open=525.1417225172348, high=556.8, close=556.8, company_weight=0.0115),\n",
              "  Stocks(name='Hill, Martinez and Valentine', symbol='HMVAL', open=78.00788874918825, high=85.09, close=75.05, company_weight=0.0194),\n",
              "  Stocks(name='Holmes Group', symbol='HOSG', open=18.136857577311147, high=19.76, close=19.76, company_weight=0.0062),\n",
              "  Stocks(name='Houston-Hall', symbol='HSH', open=45.11939912527124, high=45.24, close=42.72, company_weight=0.0019),\n",
              "  Stocks(name='Holt, Shaw and Stewart', symbol='HSS', open=331.2802681503191, high=351.18, close=266.87, company_weight=0.0085),\n",
              "  Stocks(name='Holt, Green and Mendoza', symbol='HTGM', open=24.91361210010802, high=27.83, close=19.37, company_weight=0.0104),\n",
              "  Stocks(name='Huang, Johnson and Collins', symbol='HUJC', open=177.8971299279382, high=195.34, close=173.72, company_weight=0.0209),\n",
              "  Stocks(name='Jordan Group', symbol='JAG', open=338.7165195517128, high=354.32, close=321.9, company_weight=0.007),\n",
              "  Stocks(name='Johnson LLC', symbol='JHLLC', open=39.13627373123887, high=39.14, close=36.76, company_weight=0.0091),\n",
              "  Stocks(name='Jones-Castro', symbol='JOCR', open=128.6256786940237, high=131.26, close=131.26, company_weight=0.0177),\n",
              "  Stocks(name='Johnson, Paul and Nguyen', symbol='JPLN', open=223.28245814432785, high=238.57, close=183.7, company_weight=0.0126),\n",
              "  Stocks(name='Jarvis, Torres and Adams', symbol='JTSA', open=191.39647109488067, high=191.4, close=156.16, company_weight=0.021),\n",
              "  Stocks(name='King-Franco', symbol='KGFR', open=232.54274531245437, high=238.81, close=202.97, company_weight=0.0096),\n",
              "  Stocks(name='Kaiser, Hill and Smith', symbol='KHIDS', open=123.25322654266908, high=137.52, close=104.95, company_weight=0.013),\n",
              "  Stocks(name='Kim-Phillips', symbol='KPHI', open=53.1515947285361, high=53.15, close=46.98, company_weight=0.0159),\n",
              "  Stocks(name='Lane, Kerr and Ramirez', symbol='LKDR', open=243.63335476460435, high=245.9, close=212.24, company_weight=0.0127),\n",
              "  Stocks(name='Marshall Group', symbol='MAGU', open=81.38703460316863, high=87.99, close=87.99, company_weight=0.01),\n",
              "  Stocks(name='Moore and Sons', symbol='MDSN', open=212.12536671213266, high=243.19, close=160.44, company_weight=0.007),\n",
              "  Stocks(name='Mejia-Kennedy', symbol='MIK', open=165.1820072955945, high=186.95, close=186.95, company_weight=0.0146),\n",
              "  Stocks(name='Moore Inc', symbol='MIN', open=146.58417524820004, high=162.7, close=162.7, company_weight=0.0072),\n",
              "  Stocks(name='Morton and Sons', symbol='MOSO', open=31.47245558178231, high=33.59, close=32.02, company_weight=0.0009),\n",
              "  Stocks(name='Mann-Perez', symbol='MPER', open=143.47442880210224, high=161.02, close=127.42, company_weight=0.0032),\n",
              "  Stocks(name='Mcdonald, Robinson and Bolton', symbol='MRNB', open=126.87472260241793, high=141.48, close=95.42, company_weight=0.0195),\n",
              "  Stocks(name='Murphy-Bowen', symbol='MRPB', open=575.2669828311163, high=585.01, close=523.5, company_weight=0.0209),\n",
              "  Stocks(name='Martin-Simmons', symbol='MSM', open=160.74382694486002, high=171.57, close=114.37, company_weight=0.0043),\n",
              "  Stocks(name='Meadows Group', symbol='MWG', open=254.83692886384353, high=254.84, close=248.45, company_weight=0.0075),\n",
              "  Stocks(name='Nguyen-Foster', symbol='NGEF', open=6.006521400566346, high=6.86, close=5.71, company_weight=0.002),\n",
              "  Stocks(name='Neal, Moore and Curry', symbol='NMOC', open=203.55629206947407, high=221.95, close=168.92, company_weight=0.0085),\n",
              "  Stocks(name='Nelson-Gallegos', symbol='NNGA', open=249.41011905761445, high=250.08, close=229.75, company_weight=0.0097),\n",
              "  Stocks(name='Nash, Oliver and Stewart', symbol='NOLS', open=685.3928644072644, high=720.87, close=604.75, company_weight=0.0193),\n",
              "  Stocks(name='Odom-Brown', symbol='OMB', open=48.5982093806836, high=48.6, close=47.46, company_weight=0.0072),\n",
              "  Stocks(name='Phillips Ltd', symbol='PIL', open=119.05858887895475, high=133.7, close=133.7, company_weight=0.0024),\n",
              "  Stocks(name='Porter Inc', symbol='PRIN', open=204.12344814295736, high=204.12, close=172.65, company_weight=0.0049),\n",
              "  Stocks(name='Quinn, Morris and Huff', symbol='QMH', open=507.64983895328896, high=566.18, close=501.76, company_weight=0.0182),\n",
              "  Stocks(name='Roberts, Chapman and Marquez', symbol='RCHM', open=702.5893135908465, high=776.84, close=776.84, company_weight=0.0167),\n",
              "  Stocks(name='Rodriguez PLC', symbol='REPLC', open=260.9860280138342, high=267.14, close=248.71, company_weight=0.0071),\n",
              "  Stocks(name='Russell, Hendricks and Larson', symbol='RHL', open=462.17435186630144, high=497.09, close=364.27, company_weight=0.01),\n",
              "  Stocks(name='Roth Ltd', symbol='RTLT', open=368.44629939540414, high=406.13, close=406.13, company_weight=0.0192),\n",
              "  Stocks(name='Stewart-Anderson', symbol='SAAO', open=50.350053796403, high=52.79, close=52.79, company_weight=0.0016),\n",
              "  Stocks(name='Scott, Gibson and Vega', symbol='SGDVG', open=127.87813649327023, high=138.37, close=104.09, company_weight=0.0072),\n",
              "  Stocks(name='Smith Inc', symbol='SIHI', open=259.0190478633955, high=259.02, close=228.67, company_weight=0.0105),\n",
              "  Stocks(name='Sullivan-Kim', symbol='SIVK', open=234.22082052979025, high=258.0, close=258.0, company_weight=0.0068),\n",
              "  Stocks(name='Smith Group', symbol='STGO', open=557.4956848204355, high=614.91, close=611.42, company_weight=0.0149),\n",
              "  Stocks(name='Scott-Watson', symbol='SWO', open=86.44870718496018, high=97.51, close=64.48, company_weight=0.0081),\n",
              "  Stocks(name='Todd Group', symbol='TDGU', open=166.74015534509456, high=166.74, close=149.19, company_weight=0.0205),\n",
              "  Stocks(name='Taylor, Rose and Humphrey', symbol='TLRH', open=62.93529262925278, high=66.47, close=66.47, company_weight=0.0034),\n",
              "  Stocks(name='Trevino Ltd', symbol='TNL', open=102.7507381027011, high=105.41, close=105.41, company_weight=0.0155),\n",
              "  Stocks(name='Trevino-Ramirez', symbol='TORM', open=260.9738127045672, high=278.66, close=278.66, company_weight=0.0055),\n",
              "  Stocks(name='Tate, Rush and Morgan', symbol='TRAM', open=53.236291543655774, high=53.24, close=37.9, company_weight=0.0014),\n",
              "  Stocks(name='Vega, Stevens and Moore', symbol='VGSAM', open=298.07955108663344, high=319.98, close=311.87, company_weight=0.0067),\n",
              "  Stocks(name='Ward LLC', symbol='WALLC', open=230.08658423445272, high=230.09, close=224.4, company_weight=0.0163),\n",
              "  Stocks(name='Walker-Conway', symbol='WCA', open=65.0875146776763, high=67.95, close=67.95, company_weight=0.0162),\n",
              "  Stocks(name='White Group', symbol='WGOU', open=65.1861894976331, high=65.19, close=55.55, company_weight=0.0013),\n",
              "  Stocks(name='Williams, Acevedo and Brown', symbol='WISAB', open=202.64726398529973, high=214.75, close=214.75, company_weight=0.0159),\n",
              "  Stocks(name='West-Jackson', symbol='WJK', open=414.4536931316367, high=432.52, close=393.67, company_weight=0.0167),\n",
              "  Stocks(name='Wilson, Li and Hayden', symbol='WLH', open=213.32663518313862, high=228.92, close=199.96, company_weight=0.0043),\n",
              "  Stocks(name='Willis, Lee and Stephens', symbol='WLLS', open=464.37294379994074, high=479.97, close=447.01, company_weight=0.0118),\n",
              "  Stocks(name='Warren Inc', symbol='WNI', open=186.83922787461162, high=186.84, close=172.7, company_weight=0.0048),\n",
              "  Stocks(name='Willis-Carter', symbol='WSCA', open=494.9439547922108, high=558.68, close=349.27, company_weight=0.0118),\n",
              "  Stocks(name='Williams PLC', symbol='WSPLC', open=279.9187664075345, high=279.92, close=218.43, company_weight=0.0162),\n",
              "  Stocks(name='Watts, Vang and Carter', symbol='WTVDC', open=381.6579067847248, high=381.66, close=300.09, company_weight=0.0097),\n",
              "  Stocks(name='White-Wilson', symbol='WWS', open=296.61024498133816, high=328.87, close=300.04, company_weight=0.0067),\n",
              "  Stocks(name='Young, Jones and Webb', symbol='YJSW', open=172.4892179780781, high=179.75, close=179.75, company_weight=0.0161),\n",
              "  Stocks(name='Young Ltd', symbol='YLT', open=250.98871814379484, high=285.36, close=178.99, company_weight=0.0146),\n",
              "  Stocks(name='Young, Cowan and Woods', symbol='YUCW', open=140.6733684991508, high=145.15, close=103.97, company_weight=0.0119),\n",
              "  Stocks(name='Zamora LLC', symbol='ZALLC', open=194.05354137854704, high=194.05, close=181.78, company_weight=0.0072)],\n",
              " 301.6922,\n",
              " 320.11,\n",
              " 283.05)"
            ]
          },
          "metadata": {
            "tags": []
          },
          "execution_count": 60
        }
      ]
    },
    {
      "cell_type": "code",
      "metadata": {
        "id": "U2uMrfuMbxfD"
      },
      "source": [
        "from decimal import Decimal\n",
        "README_CONTENT_CHECK_FOR = [\n",
        "    \"calc_time\",\n",
        "    \"oldest_person_in_namedtuple\",\n",
        "    \"average_age_in_namedtuple\",\n",
        "    \"average_coords_in_namedtuple\",\n",
        "    \"max_bloodgroup_in_namedtuple\",\n",
        "    \"time_for_named_tuple\",\n",
        "    \"oldest_person_dict\"\n",
        "    \"average_age_dict\",\n",
        "    \"average_coords_dict\",\n",
        "    \"max_bloodgroup_dict\",\n",
        "    \"symbol\",\n",
        "    \"stock_market\"\n",
        "]\n",
        "\n",
        "fake = Faker()\n",
        "def test_readme_exists():\n",
        "    assert os.path.isfile(\"README.md\"), \"README.md file missing!\"\n",
        "\n",
        "def test_readme_contents():\n",
        "    readme = open(\"README.md\", \"r\")\n",
        "    readme_words = readme.read().split()\n",
        "    readme.close()\n",
        "    assert len(readme_words) >= 500, \"Make your README.md file interesting! Add atleast 500 words\"\n",
        "\n",
        "def test_readme_proper_description():\n",
        "    READMELOOKSGOOD = True\n",
        "    f = open(\"README.md\", \"r\", encoding=\"utf-8\")\n",
        "    content = f.read()\n",
        "    f.close()\n",
        "    for c in README_CONTENT_CHECK_FOR:\n",
        "        if c not in content:\n",
        "            READMELOOKSGOOD = False\n",
        "            pass\n",
        "    assert READMELOOKSGOOD == True, \"You have not described all the functions/class well in your README.md file\"\n",
        "\n",
        "def test_readme_file_for_formatting():\n",
        "    f = open(\"README.md\", \"r\", encoding=\"utf-8\")\n",
        "    content = f.read()\n",
        "    f.close()\n",
        "    assert content.count(\"#\") >= 10\n",
        "\n",
        "def test_indentations():\n",
        "    ''' Returns pass if used four spaces for each level of syntactically \\\n",
        "    significant indenting.'''\n",
        "    lines = inspect.getsource(session9)\n",
        "    spaces = re.findall('\\n +.', lines)\n",
        "    for space in spaces:\n",
        "        assert len(space) % 4 == 2, \"Your script contains misplaced indentations\"\n",
        "        assert len(re.sub(r'[^ ]', '', space)) % 4 == 0, \"Your code indentation does not follow PEP8 guidelines\"\n",
        "\n",
        "def test_function_name_had_cap_letter():\n",
        "    functions = inspect.getmembers(session9, inspect.isfunction)\n",
        "    for function in functions:\n",
        "        assert len(re.findall('([A-Z])', function[0])) == 0, \"You have used Capital letter(s) in your function names\"\n",
        "\n",
        "\n",
        "Profile = namedtuple('Profile', fake.profile().keys())\n",
        "named_tuples = [Profile('AA','GH', '200-000-222','Texas',(Decimal('-46.204908'), Decimal('-168.530504')), 'O+','www.ddd.com','GP','KS', 'M','qqq','s@dys.com', date(1968, 1, 25)),\n",
        "                Profile('LC','GCB','000-000-000','Austin',(Decimal('75.9842075'), Decimal('-17.257017')), 'B+','www.www.www','WD','JB','F','AAA','sdg', date(1921, 10, 25)),\n",
        "                Profile('GG','DFG','000-111-000','AX',(Decimal('-43.994425'), Decimal('107.105065')),'O-','sss','IS','AC','F','SSS','GHF',date(1993, 3, 20)),\n",
        "                Profile('LS','DD','000-222-333','DS',(Decimal('-6.979771'), Decimal('-51.459563')),'O+','www','DG','CD','F','SDF','DFT',date(1981, 3, 28)),\n",
        "                Profile('CE','BL','000-333-444','SW',(Decimal('-7.1557865'), Decimal('142.414900')), 'A+','ert','MR','BS','M','SWQ','dfr',date(1934, 11, 12))\n",
        "                ]\n",
        "\n",
        "\n",
        "# Question1 Test cases\n",
        "\n",
        "\n",
        "def test_q1_number_of_nt_profiles():\n",
        "    assert len(init_profiles_using_namedtuple(100)) == 100 ,'Please create 100 profiles'\n",
        "\n",
        "def test_q1_average_age_nt():\n",
        "    print(average_age_in_namedtuple(named_tuples)[1])\n",
        "    assert average_age_in_namedtuple(named_tuples)[1] == 61.2, \"PLease check the average age function\"\n",
        "\n",
        "def test_q1_oldest_person_nt():\n",
        "    assert oldest_person_in_namedtuple(named_tuples)[1] == 99, \"PLease check the oldest age function\"\n",
        "\n",
        "def test_q1_average_coords_nt():\n",
        "    assert average_coords_in_namedtuple(named_tuples)[1] == (Decimal('-5.6701366'), Decimal('2.4545762')), \"PLease check the avg coord function\"\n",
        "\n",
        "def test_q1_max_bloodgroup_nt():\n",
        "    assert max_bloodgroup_in_namedtuple(named_tuples)[1] == 'O+', \"Please check the max blood group function\""
      ],
      "execution_count": 50,
      "outputs": []
    },
    {
      "cell_type": "code",
      "metadata": {
        "colab": {
          "base_uri": "https://localhost:8080/"
        },
        "id": "X7lgYu-mdkKE",
        "outputId": "b04dff4e-dfb4-4905-c33e-e5371c3e0cd4"
      },
      "source": [
        "test_q1_number_of_nt_profiles()\n",
        "test_q1_average_age_nt()\n",
        "test_q1_oldest_person_nt()\n",
        "test_q1_average_coords_nt()\n",
        "test_q1_max_bloodgroup_nt()"
      ],
      "execution_count": 51,
      "outputs": [
        {
          "output_type": "stream",
          "text": [
            "61.2\n"
          ],
          "name": "stdout"
        }
      ]
    },
    {
      "cell_type": "code",
      "metadata": {
        "id": "fjkvvwSudS1-"
      },
      "source": [
        "# Question 2 Test cases\n",
        "\n",
        "fk_Profile_dict = namedtupletodict(named_tuples)\n",
        "\n",
        "def test_q2_type_of_value():\n",
        "    assert type(fk_Profile_dict) == dict,'Please check the namedtuple to dictionary conversion function'\n",
        "\n",
        "def test_q2_average_age_dict():\n",
        "    assert average_age_dict(fk_Profile_dict)[1] == 61.2, \"PLease check the average age function\"\n",
        "\n",
        "def test_q2_oldest_person_dict():\n",
        "    assert oldest_person_dict(fk_Profile_dict)[1] == 99, \"PLease check the oldest age function\"\n",
        "\n",
        "def test_q2_average_coords_dict():\n",
        "    assert average_coords_dict(fk_Profile_dict)[1] == (Decimal('-5.6701366'), Decimal('2.4545762')), \"PLease check the avg coord function\"\n",
        "\n",
        "def test_q2_max_bloodgroup_dict():\n",
        "    assert max_bloodgroup_dict(fk_Profile_dict)[1] == 'O+', \"Please check the max blood group function\"\n",
        "\n",
        "def test_q2_fastest_nt_dict():\n",
        "    fk_Profile_nt = init_profiles_using_namedtuple(10000)\n",
        "    fk_Profile_dict = namedtupletodict(fk_Profile_nt)\n",
        "    assert time_for_named_tuple(fk_Profile_nt, 100) < time_for_dict(fk_Profile_dict, 100), 'How can dict be faster than named tuple CHECK!!'"
      ],
      "execution_count": 56,
      "outputs": []
    },
    {
      "cell_type": "code",
      "metadata": {
        "id": "EosBYX4Ke_vX"
      },
      "source": [
        "test_q2_type_of_value()\n",
        "test_q2_average_age_dict()\n",
        "test_q2_oldest_person_dict()\n",
        "test_q2_average_coords_dict()\n",
        "test_q2_max_bloodgroup_dict()\n",
        "test_q2_fastest_nt_dict()"
      ],
      "execution_count": 57,
      "outputs": []
    },
    {
      "cell_type": "code",
      "metadata": {
        "id": "FwFE5kWtrMUg"
      },
      "source": [
        "# Question 3\n",
        "N = 100\n",
        "stVals = stock_market(N)"
      ],
      "execution_count": 64,
      "outputs": []
    },
    {
      "cell_type": "code",
      "metadata": {
        "colab": {
          "base_uri": "https://localhost:8080/"
        },
        "id": "aX6Mb5eFrRAv",
        "outputId": "30f3e80c-f906-4210-9d54-34ec7c3b6752"
      },
      "source": [
        "stVals[0]"
      ],
      "execution_count": 66,
      "outputs": [
        {
          "output_type": "execute_result",
          "data": {
            "text/plain": [
              "[Stocks(name='Allen-Reese', symbol='AERE', open=9.645321604227796, high=9.82, close=8.4, company_weight=0.0064),\n",
              " Stocks(name='Allen and Sons', symbol='AES', open=43.97606154629188, high=46.88, close=46.88, company_weight=0.0047),\n",
              " Stocks(name='Anderson Group', symbol='ANDG', open=24.231786223818915, high=27.19, close=27.19, company_weight=0.0011),\n",
              " Stocks(name='Avila, Scott and Kane', symbol='ASCNK', open=3.0044076878215953, high=3.38, close=2.5, company_weight=0.0001),\n",
              " Stocks(name='Anderson, West and Wilson', symbol='AWEW', open=216.37532667227936, high=241.76, close=241.76, company_weight=0.0145),\n",
              " Stocks(name='Brandt-Holmes', symbol='BH', open=122.07736309754517, high=124.4, close=124.4, company_weight=0.0058),\n",
              " Stocks(name='Blair, Maldonado and Johns', symbol='BMLAJ', open=25.68688398302267, high=28.97, close=27.11, company_weight=0.002),\n",
              " Stocks(name='Brown, Powell and Johnson', symbol='BPEJ', open=338.3532634371039, high=342.68, close=280.72, company_weight=0.009),\n",
              " Stocks(name='Camacho, Ayers and Greene', symbol='CAEGE', open=76.82324564286564, high=80.87, close=80.87, company_weight=0.0037),\n",
              " Stocks(name='Clark Ltd', symbol='CAKL', open=144.5128366884935, high=161.03, close=116.93, company_weight=0.0039),\n",
              " Stocks(name='Clayton-Best', symbol='CAOB', open=239.6425239854053, high=273.41, close=218.54, company_weight=0.0057),\n",
              " Stocks(name='Caldwell Group', symbol='CEG', open=83.06271621021818, high=83.06, close=58.78, company_weight=0.0149),\n",
              " Stocks(name='Cervantes-Barrera', symbol='CESB', open=589.5815651338041, high=666.36, close=413.04, company_weight=0.0128),\n",
              " Stocks(name='Clark-Reyes', symbol='CLR', open=152.2724435794713, high=160.59, close=160.59, company_weight=0.0077),\n",
              " Stocks(name='Clayton-Byrd', symbol='CLYB', open=58.091413561947, high=58.09, close=57.34, company_weight=0.0058),\n",
              " Stocks(name='Chaney, Mendez and Meyer', symbol='CMNZM', open=229.50518074084636, high=237.8, close=211.49, company_weight=0.0173),\n",
              " Stocks(name='Chapman and Sons', symbol='CNDS', open=0.31631769310153096, high=0.32, close=0.23, company_weight=0.0001),\n",
              " Stocks(name='Cook Ltd', symbol='COL', open=367.3936007107692, high=421.44, close=421.44, company_weight=0.0116),\n",
              " Stocks(name='Cook LLC', symbol='COLLC', open=400.33623561685096, high=400.34, close=370.24, company_weight=0.0105),\n",
              " Stocks(name='Charles, Hardin and Avila', symbol='CRHAL', open=482.5768234797046, high=547.58, close=501.98, company_weight=0.0145),\n",
              " Stocks(name='Cruz-Dixon', symbol='CUD', open=384.56603285865145, high=384.57, close=302.03, company_weight=0.0157),\n",
              " Stocks(name='Curry, Howard and Vega', symbol='CUHRV', open=118.48388974375555, high=126.7, close=99.98, company_weight=0.0025),\n",
              " Stocks(name='Casey Inc', symbol='CYI', open=112.626502157366, high=114.07, close=95.71, company_weight=0.0142),\n",
              " Stocks(name='Daniels-Garcia', symbol='DGI', open=62.82930011199241, high=66.29, close=66.29, company_weight=0.0018),\n",
              " Stocks(name='Diaz PLC', symbol='DIPLC', open=444.9345974354599, high=444.93, close=348.01, company_weight=0.0164),\n",
              " Stocks(name='Davis-Osborne', symbol='DOB', open=342.69233159638964, high=342.69, close=282.45, company_weight=0.0085),\n",
              " Stocks(name='Dalton, Strickland and Griffin', symbol='DOSAG', open=188.78215262043355, high=203.93, close=202.49, company_weight=0.0043),\n",
              " Stocks(name='Delacruz-Villarreal', symbol='DRUV', open=646.887123629195, high=718.64, close=718.64, company_weight=0.0184),\n",
              " Stocks(name='Dixon, Richardson and Watson', symbol='DRWS', open=36.173259587953986, high=41.46, close=27.89, company_weight=0.0011),\n",
              " Stocks(name='Erickson LLC', symbol='ERLLC', open=243.3773669804756, high=247.36, close=247.36, company_weight=0.0144),\n",
              " Stocks(name='Fisher Group', symbol='FGR', open=7.992253871569456, high=8.85, close=8.85, company_weight=0.0003),\n",
              " Stocks(name='Flores-Wells', symbol='FRWL', open=266.8869567931441, high=266.89, close=234.62, company_weight=0.0201),\n",
              " Stocks(name='Foster Ltd', symbol='FTRL', open=218.10491041825455, high=238.83, close=169.03, company_weight=0.0075),\n",
              " Stocks(name='Green LLC', symbol='GNLLC', open=114.34117368394803, high=122.3, close=102.82, company_weight=0.0189),\n",
              " Stocks(name='Gomez-Figueroa', symbol='GOMF', open=560.2447797029707, high=607.14, close=425.57, company_weight=0.0115),\n",
              " Stocks(name='Garrison, Hernandez and Soto', symbol='GRHAS', open=42.03243930858313, high=43.93, close=32.4, company_weight=0.0008),\n",
              " Stocks(name='Hill, Anderson and Scott', symbol='HASO', open=302.2637959822212, high=326.54, close=250.72, company_weight=0.0106),\n",
              " Stocks(name='Henry, Bradley and Carlson', symbol='HBLCS', open=188.10443318671972, high=210.68, close=209.76, company_weight=0.0174),\n",
              " Stocks(name='Huff Group', symbol='HG', open=244.06878979964114, high=270.4, close=270.4, company_weight=0.0196),\n",
              " Stocks(name='Howell-Mckay', symbol='HLM', open=191.07886926193476, high=191.08, close=152.18, company_weight=0.0121),\n",
              " Stocks(name='Henson Inc', symbol='HNI', open=109.16863911777159, high=109.17, close=94.57, company_weight=0.0055),\n",
              " Stocks(name='Harrison-Reed', symbol='HRE', open=583.8331812381953, high=666.53, close=604.29, company_weight=0.0164),\n",
              " Stocks(name='Hughes, Bell and Cole', symbol='HUBC', open=8.45609836236018, high=9.51, close=6.52, company_weight=0.0003),\n",
              " Stocks(name='Jordan-Anderson', symbol='JANA', open=848.0591618317133, high=930.04, close=861.44, company_weight=0.0181),\n",
              " Stocks(name='Johnson-Christensen', symbol='JCIE', open=396.7911865885129, high=412.37, close=370.76, company_weight=0.0093),\n",
              " Stocks(name='Johnson-Morris', symbol='JHM', open=230.05984972849052, high=249.65, close=249.65, company_weight=0.0094),\n",
              " Stocks(name='Johnson-Sellers', symbol='JHSL', open=40.19790840648261, high=41.47, close=29.52, company_weight=0.0013),\n",
              " Stocks(name='Jackson-Holland', symbol='JKHN', open=76.07962839511814, high=80.88, close=68.44, company_weight=0.0042),\n",
              " Stocks(name='Johnson-Baker', symbol='JNBK', open=387.07553802344853, high=401.04, close=345.93, company_weight=0.0083),\n",
              " Stocks(name='James, Nielsen and Miller', symbol='JNLM', open=173.68425998520817, high=198.21, close=183.19, company_weight=0.0067),\n",
              " Stocks(name='Jones Inc', symbol='JOI', open=537.6408758977124, high=537.64, close=382.68, company_weight=0.0155),\n",
              " Stocks(name='Jones, Reynolds and Jenkins', symbol='JRNJ', open=598.5298534732805, high=647.41, close=457.17, company_weight=0.0174),\n",
              " Stocks(name='Jackson and Sons', symbol='JSOS', open=640.9933227825601, high=671.29, close=671.29, company_weight=0.0186),\n",
              " Stocks(name='King, Davis and Bishop', symbol='KDDBS', open=479.3626181113555, high=486.73, close=479.44, company_weight=0.0098),\n",
              " Stocks(name='Li-Jenkins', symbol='LIJK', open=256.2042952620714, high=256.2, close=183.78, company_weight=0.0103),\n",
              " Stocks(name='Livingston, Lopez and Bailey', symbol='LLOB', open=172.41165528786252, high=175.88, close=175.88, company_weight=0.0039),\n",
              " Stocks(name='Lowe-Morgan', symbol='LMG', open=315.35166591004935, high=325.83, close=325.83, company_weight=0.0063),\n",
              " Stocks(name='Long, Thomas and Lee', symbol='LTSL', open=496.64490298279964, high=496.64, close=477.41, company_weight=0.012),\n",
              " Stocks(name='Lucero-Coleman', symbol='LUC', open=5.994325623310563, high=6.09, close=6.09, company_weight=0.0001),\n",
              " Stocks(name='Molina, Barnes and Wilcox', symbol='MABDW', open=350.48801137803514, high=350.49, close=269.68, company_weight=0.0108),\n",
              " Stocks(name='May-Liu', symbol='MAL', open=26.119269623856695, high=28.83, close=28.83, company_weight=0.0035),\n",
              " Stocks(name='Martin-Espinoza', symbol='MEI', open=94.86348789439859, high=109.0, close=70.42, company_weight=0.0158),\n",
              " Stocks(name='Miller, Smith and Kramer', symbol='MESTK', open=433.1556000338513, high=448.31, close=365.77, company_weight=0.018),\n",
              " Stocks(name='Mays, Ford and Kemp', symbol='MFDK', open=120.53761170579757, high=124.48, close=113.54, company_weight=0.0139),\n",
              " Stocks(name='Martinez-Wheeler', symbol='MINW', open=537.8206257791096, high=574.88, close=417.44, company_weight=0.0165),\n",
              " Stocks(name='Miranda Inc', symbol='MIRI', open=17.478782173212362, high=19.88, close=14.05, company_weight=0.0019),\n",
              " Stocks(name='Martin-Wang', symbol='MIWN', open=12.794611369234897, high=13.66, close=12.96, company_weight=0.0021),\n",
              " Stocks(name='Mack, Kelley and Scott', symbol='MKEDS', open=137.288058350269, high=137.29, close=123.21, company_weight=0.0196),\n",
              " Stocks(name='Martin PLC', symbol='MPLC', open=20.315199489938436, high=22.57, close=20.95, company_weight=0.0028),\n",
              " Stocks(name='Melton, Russell and Flores', symbol='MRUNF', open=220.46419681455964, high=249.1, close=211.57, company_weight=0.0111),\n",
              " Stocks(name='Mays-Allen', symbol='MYA', open=290.12290704223915, high=302.36, close=288.39, company_weight=0.0137),\n",
              " Stocks(name='Nguyen-Lee', symbol='NGNL', open=763.1191657934907, high=856.3, close=856.3, company_weight=0.0191),\n",
              " Stocks(name='Oconnor, Lee and Cross', symbol='OLNDC', open=326.3515448740545, high=347.03, close=347.03, company_weight=0.0106),\n",
              " Stocks(name='Price Ltd', symbol='PCL', open=465.40814419553, high=471.43, close=471.43, company_weight=0.0149),\n",
              " Stocks(name='Peters, Cook and Hernandez', symbol='PECHD', open=367.20679050727085, high=421.67, close=272.7, company_weight=0.0118),\n",
              " Stocks(name='Price, Walker and Perez', symbol='PEWRP', open=429.35278957421383, high=471.6, close=471.6, company_weight=0.0106),\n",
              " Stocks(name='Porter Group', symbol='PG', open=222.73775911359724, high=243.4, close=238.26, company_weight=0.0113),\n",
              " Stocks(name='Porter, Valdez and Smith', symbol='PVS', open=166.2486397440191, high=185.92, close=140.68, company_weight=0.0118),\n",
              " Stocks(name='Rodriguez LLC', symbol='RILLC', open=459.375764254131, high=519.41, close=516.51, company_weight=0.019),\n",
              " Stocks(name='Roach Inc', symbol='RIN', open=78.61376552577379, high=82.55, close=69.32, company_weight=0.0069),\n",
              " Stocks(name='Robinson-Guzman', symbol='RNGM', open=476.6420121438229, high=546.56, close=538.79, company_weight=0.018),\n",
              " Stocks(name='Rogers, Oliver and Norman', symbol='RONM', open=164.73157194803008, high=170.22, close=168.59, company_weight=0.0137),\n",
              " Stocks(name='Roberts, Beck and Obrien', symbol='RRBCO', open=84.23203117482484, high=96.75, close=61.34, company_weight=0.0051),\n",
              " Stocks(name='Salas PLC', symbol='SAPLC', open=50.15072616808227, high=50.15, close=37.28, company_weight=0.008),\n",
              " Stocks(name='Savage, Burnett and Davis', symbol='SBTTD', open=750.6188896028856, high=750.62, close=703.11, company_weight=0.0197),\n",
              " Stocks(name='Stephens-Jimenez', symbol='SEJE', open=33.90405109422432, high=35.6, close=35.6, company_weight=0.0082),\n",
              " Stocks(name='Singh-Gonzalez', symbol='SGZA', open=391.3391305925893, high=440.15, close=440.15, company_weight=0.0169),\n",
              " Stocks(name='Smith Group', symbol='SHGR', open=291.3745584117371, high=307.34, close=216.69, company_weight=0.0072),\n",
              " Stocks(name='Sanchez-Myers', symbol='SMR', open=46.54091996705273, high=47.24, close=42.98, company_weight=0.0023),\n",
              " Stocks(name='Stewart, Alvarez and Wagner', symbol='SRAWN', open=246.0221136270609, high=246.02, close=211.17, company_weight=0.0115),\n",
              " Stocks(name='Shaffer, Walters and Gill', symbol='SWG', open=123.57202397495907, high=131.43, close=105.24, company_weight=0.0063),\n",
              " Stocks(name='Vasquez-Prince', symbol='VSP', open=241.9604450935345, high=241.96, close=209.8, company_weight=0.0055),\n",
              " Stocks(name='Walker LLC', symbol='WALLC', open=0.31387591158007333, high=0.31, close=0.24, company_weight=0.0001),\n",
              " Stocks(name='Wheeler LLC', symbol='WELLLC', open=246.68595934963713, high=246.69, close=177.67, company_weight=0.0049),\n",
              " Stocks(name='Weber Group', symbol='WGR', open=446.55533750113705, high=446.56, close=330.26, company_weight=0.018),\n",
              " Stocks(name='Wilson, Joseph and Floyd', symbol='WOJF', open=370.86755874439507, high=370.87, close=318.16, company_weight=0.0138),\n",
              " Stocks(name='Wolf-Smith', symbol='WOS', open=265.1245649521044, high=265.12, close=213.34, company_weight=0.0085),\n",
              " Stocks(name='Watson, Rodriguez and Bolton', symbol='WSRAB', open=743.7420476681702, high=806.41, close=716.76, company_weight=0.0156),\n",
              " Stocks(name='Young Group', symbol='YOGR', open=326.1819090658742, high=334.39, close=298.0, company_weight=0.0095),\n",
              " Stocks(name='Zimmerman, Berg and Glass', symbol='ZRBG', open=906.8287571016973, high=1015.06, close=1015.06, company_weight=0.0196)]"
            ]
          },
          "metadata": {
            "tags": []
          },
          "execution_count": 66
        }
      ]
    },
    {
      "cell_type": "code",
      "metadata": {
        "id": "F63ZMBwJdYGS"
      },
      "source": [
        "def test_q3_number_profiles():\n",
        "    assert len(stock_market(100)[0]) == 100, 'Not enough profiles'\n",
        "\n",
        "def test_q3_doc_string():\n",
        "    assert stock_market.__doc__ != None, 'Please provide a doc string'\n",
        "\n",
        "def test_q3_annotations():\n",
        "    assert stock_market.__annotations__ != None, 'Please provide appropriate annotations'\n",
        "\n",
        "def test_q3_unique_symbol():\n",
        "    symbols = len(set([x.symbol for x in stVals[0]]))\n",
        "    assert symbols == N, 'Duplicate Symbols found'\n",
        "    \n",
        "def test_q3_return_namedt():\n",
        "    assert type(stVals[0][0]) != tuple, 'Check the function'\n",
        "    \n",
        "def test_q3_normalized_wts():\n",
        "    wts_sum = sum([x.company_weight for x in stVals[0]])\n",
        "    assert wts_sum >= 0.9, 'Normalize the weights'\n",
        "\n",
        "def test_q3_close_gt_zero():\n",
        "    close = [x.close for x in stVals[0]]\n",
        "    min_close = min(close)\n",
        "    assert min_close >= 0 , 'min close should be greater than zero'\n",
        "\n",
        "def test_q3_high_gt_zero():\n",
        "    high = [x.high for x in stVals[0]]\n",
        "    min_high = min(high)\n",
        "    assert min_high >= 0 , 'min high should be greater than zero'\n",
        "\n",
        "def test_q3_open_gt_zero():\n",
        "    open = [x.open for x in stVals[0]]\n",
        "    min_open = min(open)\n",
        "    assert min_open >= 0 , 'min open should be greater than zero'\n",
        "    \n",
        "def test_q3_highd_lowd():\n",
        "    assert stVals[2] >= stVals[3], 'How can highest be less than lowest'\n",
        "    \n",
        "def test_q3_all_high_low():\n",
        "    high = [x.high for x in stVals[0]]\n",
        "    open_  = [x.open for x in stVals[0]]\n",
        "    Diff = [(high[i] - open_[i]) for i in range(len(high))]\n",
        "    for x in Diff:\n",
        "        assert x >= 0, 'Check the Program'\n",
        "\n",
        "def test_q3_docstring_namedtuple():\n",
        "    assert stVals[0][1].__doc__ != None, 'No docstring for the tuple'\n",
        "    \n",
        "def test_q3_docstring_symbol():\n",
        "    assert symbol.__doc__ != None, 'Doc string missing'\n",
        "\n",
        "def test_q3_string_annotations():\n",
        "    assert symbol.__annotations__ != None, 'Provide annotattions'"
      ],
      "execution_count": 77,
      "outputs": []
    },
    {
      "cell_type": "code",
      "metadata": {
        "id": "hov4yemegHSG"
      },
      "source": [
        "test_q3_close_gt_zero()\n",
        "test_q3_high_gt_zero()\n",
        "test_q3_open_gt_zero()\n",
        "test_q3_no_profiles_generated()\n",
        "test_q3_doc_string()\n",
        "test_q3_annotations()\n",
        "test_q3_unique_symbol()\n",
        "test_q3_return_namedt()\n",
        "test_q3_normalized_wts()\n",
        "test_q3_highd_lowd()\n",
        "test_q3_docstring_namedtuple()\n",
        "test_q3_docstring_symbol()\n",
        "test_q3_string_annotations()"
      ],
      "execution_count": 78,
      "outputs": []
    },
    {
      "cell_type": "code",
      "metadata": {
        "id": "wbk86XlRfeMw"
      },
      "source": [
        ""
      ],
      "execution_count": null,
      "outputs": []
    }
  ]
}